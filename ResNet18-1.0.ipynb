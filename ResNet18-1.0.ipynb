{
 "cells": [
  {
   "cell_type": "code",
   "execution_count": 1,
   "id": "initial_id",
   "metadata": {
    "ExecuteTime": {
     "end_time": "2023-10-23T10:27:29.298021026Z",
     "start_time": "2023-10-23T10:27:29.253660301Z"
    }
   },
   "outputs": [],
   "source": [
    "# ResNet18 CiFar10\n",
    "\n",
    "import torch\n",
    "import torchvision\n",
    "from torch import nn\n",
    "from torch.nn import functional as F\n",
    "import time\n",
    "from torchvision import transforms\n"
   ]
  },
  {
   "cell_type": "code",
   "execution_count": 2,
   "id": "24b229694854b296",
   "metadata": {
    "ExecuteTime": {
     "end_time": "2023-10-23T10:27:29.298197427Z",
     "start_time": "2023-10-23T10:27:29.297617745Z"
    }
   },
   "outputs": [],
   "source": [
    "class Timer:\n",
    "    \"\"\"记录多次运行时间\"\"\"\n",
    "    def __init__(self):\n",
    "        \"\"\"Defined in :numref:`subsec_linear_model`\"\"\"\n",
    "        self.times = []\n",
    "        self.start()\n",
    "\n",
    "    def start(self):\n",
    "        \"\"\"启动计时器\"\"\"\n",
    "        self.tik = time.time()\n",
    "\n",
    "    def stop(self):\n",
    "        \"\"\"停止计时器并将时间记录在列表中\"\"\"\n",
    "        self.times.append(time.time() - self.tik)\n",
    "        return self.times[-1]\n",
    "    \n",
    "    def sum(self):\n",
    "        \"\"\"返回时间总和\"\"\"\n",
    "        return sum(self.times)\n",
    "\n",
    "\n",
    "class Accumulator:\n",
    "    \"\"\"在n个变量上累加\"\"\"\n",
    "    def __init__(self, n):\n",
    "        \"\"\"Defined in :numref:`sec_softmax_scratch`\"\"\"\n",
    "        self.data = [0.0] * n\n",
    "\n",
    "    def add(self, *args):\n",
    "        self.data = [a + float(b) for a, b in zip(self.data, args)]\n",
    "\n",
    "    def reset(self):\n",
    "        self.data = [0.0] * len(self.data)\n",
    "\n",
    "    def __getitem__(self, idx):\n",
    "        return self.data[idx]\n",
    "    \n",
    "\n",
    "\n",
    "def accuracy(y_hat, y):  #@save\n",
    "    \"\"\"计算预测正确的数量\"\"\"\n",
    "    if len(y_hat.shape) > 1 and y_hat.shape[1] > 1:\n",
    "        y_hat = y_hat.argmax(axis=1)\n",
    "    cmp = y_hat.type(y.dtype) == y\n",
    "    return float(cmp.type(y.dtype).sum())\n",
    "\n",
    "\n",
    "def evaluate_accuracy_gpu(net, data_iter, device=None):\n",
    "    \"\"\"使用GPU计算模型在数据集上的精度\n",
    "\n",
    "    Defined in :numref:`sec_lenet`\"\"\"\n",
    "    if isinstance(net, nn.Module):\n",
    "        net.eval()  # 设置为评估模式\n",
    "        if not device:\n",
    "            device = next(iter(net.parameters())).device\n",
    "    # 正确预测的数量，总预测的数量\n",
    "    metric = Accumulator(2)\n",
    "    with torch.no_grad():\n",
    "        for X, y in data_iter:\n",
    "            if isinstance(X, list):\n",
    "                # BERT微调所需的（之后将介绍）\n",
    "                X = [x.to(device) for x in X]\n",
    "            else:\n",
    "                X = X.to(device)\n",
    "            y = y.to(device)\n",
    "            metric.add(accuracy(net(X), y), y.numel())\n",
    "    return metric[0] / metric[1]\n"
   ]
  },
  {
   "cell_type": "code",
   "execution_count": 3,
   "id": "c97feac3d2ed5222",
   "metadata": {
    "ExecuteTime": {
     "end_time": "2023-10-23T10:27:29.298312847Z",
     "start_time": "2023-10-23T10:27:29.297795296Z"
    }
   },
   "outputs": [],
   "source": [
    "class Residual(nn.Module):  #@save\n",
    "    def __init__(self, input_channels, num_channels,\n",
    "                 use_1x1conv=False, strides=1):\n",
    "        super().__init__()\n",
    "        self.conv1 = nn.Conv2d(input_channels, num_channels,\n",
    "                               kernel_size=3, padding=1, stride=strides)\n",
    "        self.conv2 = nn.Conv2d(num_channels, num_channels,\n",
    "                               kernel_size=3, padding=1)\n",
    "        if use_1x1conv:\n",
    "            self.conv3 = nn.Conv2d(input_channels, num_channels,\n",
    "                                   kernel_size=1, stride=strides)\n",
    "        else:\n",
    "            self.conv3 = None\n",
    "        self.bn1 = nn.BatchNorm2d(num_channels)\n",
    "        self.bn2 = nn.BatchNorm2d(num_channels)\n",
    "\n",
    "    def forward(self, X):\n",
    "        Y = F.relu(self.bn1(self.conv1(X)))\n",
    "        Y = self.bn2(self.conv2(Y))\n",
    "        if self.conv3:\n",
    "            X = self.conv3(X)\n",
    "        Y += X\n",
    "        return F.relu(Y)"
   ]
  },
  {
   "cell_type": "code",
   "execution_count": 4,
   "id": "e26d8d3a5f38a193",
   "metadata": {
    "ExecuteTime": {
     "end_time": "2023-10-23T10:27:29.298420837Z",
     "start_time": "2023-10-23T10:27:29.297926066Z"
    }
   },
   "outputs": [],
   "source": [
    "def resnet_block(input_channels, num_channels, num_residuals,\n",
    "                 first_block=False):\n",
    "    blk = []\n",
    "    for i in range(num_residuals):\n",
    "        if i == 0 and not first_block:\n",
    "            blk.append(Residual(input_channels, num_channels,\n",
    "                                use_1x1conv=True, strides=2))\n",
    "        else:\n",
    "            blk.append(Residual(num_channels, num_channels))\n",
    "    return blk"
   ]
  },
  {
   "cell_type": "code",
   "execution_count": 5,
   "id": "44d27cbdecb7ada6",
   "metadata": {
    "ExecuteTime": {
     "end_time": "2023-10-23T10:27:29.298785848Z",
     "start_time": "2023-10-23T10:27:29.298099387Z"
    }
   },
   "outputs": [],
   "source": [
    "b1 = nn.Sequential(nn.Conv2d(3, 64, kernel_size=3, stride=1, padding=1),\n",
    "                   nn.BatchNorm2d(64), nn.ReLU(),\n",
    "                   # nn.MaxPool2d(kernel_size=3, stride=1, padding=1)\n",
    "                    )"
   ]
  },
  {
   "cell_type": "code",
   "execution_count": 6,
   "id": "488a34958636a400",
   "metadata": {
    "ExecuteTime": {
     "end_time": "2023-10-23T10:27:29.343636005Z",
     "start_time": "2023-10-23T10:27:29.298286567Z"
    }
   },
   "outputs": [],
   "source": [
    "b2 = nn.Sequential(*resnet_block(64, 64, 2, first_block=True))\n",
    "b3 = nn.Sequential(*resnet_block(64, 128, 2))\n",
    "b4 = nn.Sequential(*resnet_block(128, 256, 2))\n",
    "b5 = nn.Sequential(*resnet_block(256, 512, 2))"
   ]
  },
  {
   "cell_type": "code",
   "execution_count": 7,
   "id": "3471f26fcc022173",
   "metadata": {
    "ExecuteTime": {
     "end_time": "2023-10-23T10:27:29.385621335Z",
     "start_time": "2023-10-23T10:27:29.344402566Z"
    }
   },
   "outputs": [],
   "source": [
    "net = nn.Sequential(b1, b2, b3, b4, b5,\n",
    "                    nn.AdaptiveAvgPool2d((1,1)),\n",
    "                    nn.Flatten(), nn.Linear(512, 10))"
   ]
  },
  {
   "cell_type": "code",
   "execution_count": 8,
   "id": "e9ba1c3e8ba690ca",
   "metadata": {
    "ExecuteTime": {
     "end_time": "2023-10-23T10:27:29.386002345Z",
     "start_time": "2023-10-23T10:27:29.385530324Z"
    }
   },
   "outputs": [
    {
     "name": "stdout",
     "output_type": "stream",
     "text": [
      "Sequential output shape:\t torch.Size([1, 64, 32, 32])\n",
      "Sequential output shape:\t torch.Size([1, 64, 32, 32])\n",
      "Sequential output shape:\t torch.Size([1, 128, 16, 16])\n",
      "Sequential output shape:\t torch.Size([1, 256, 8, 8])\n",
      "Sequential output shape:\t torch.Size([1, 512, 4, 4])\n",
      "AdaptiveAvgPool2d output shape:\t torch.Size([1, 512, 1, 1])\n",
      "Flatten output shape:\t torch.Size([1, 512])\n",
      "Linear output shape:\t torch.Size([1, 10])\n"
     ]
    }
   ],
   "source": [
    "X = torch.rand(size=(1, 3, 32, 32))\n",
    "for layer in net:\n",
    "    X = layer(X)\n",
    "    print(layer.__class__.__name__,'output shape:\\t', X.shape)"
   ]
  },
  {
   "cell_type": "code",
   "execution_count": 9,
   "id": "b7b49bb6eeaed2cc",
   "metadata": {
    "ExecuteTime": {
     "end_time": "2023-10-23T10:27:30.441266767Z",
     "start_time": "2023-10-23T10:27:29.385722735Z"
    }
   },
   "outputs": [
    {
     "name": "stdout",
     "output_type": "stream",
     "text": [
      "Files already downloaded and verified\n",
      "Files already downloaded and verified\n"
     ]
    }
   ],
   "source": [
    "trans = [transforms.RandomCrop(32, padding=4),\n",
    "         transforms.RandomHorizontalFlip(p=0.5),\n",
    "         transforms.RandomRotation(45),\n",
    "         transforms.ToTensor()]\n",
    "trans = transforms.Compose(trans)\n",
    "train_data = torchvision.datasets.CIFAR10(root='./data', train=True, transform=trans, download=True)\n",
    "test_data = torchvision.datasets.CIFAR10(root='./data', train=False, transform=transforms.ToTensor(),\n",
    "                                         download=True)\n",
    "\n",
    "batch_size = 128\n",
    "train_iter = torch.utils.data.DataLoader(train_data, batch_size, shuffle=True)\n",
    "test_iter = torch.utils.data.DataLoader(test_data, batch_size, shuffle=True)"
   ]
  },
  {
   "cell_type": "code",
   "execution_count": 10,
   "id": "34f86b5f23881898",
   "metadata": {
    "ExecuteTime": {
     "end_time": "2023-10-23T10:28:32.551097577Z",
     "start_time": "2023-10-23T10:27:30.444440195Z"
    }
   },
   "outputs": [
    {
     "name": "stdout",
     "output_type": "stream",
     "text": [
      "training on cuda:0\n",
      "train loss: 1.8115907727050782, train acc: 0.36292, test acc: 0.3783\n",
      "train loss: 1.3873056744384766, train acc: 0.49512, test acc: 0.4045\n",
      "train loss: 1.2077794293212891, train acc: 0.56656, test acc: 0.5568\n",
      "train loss: 1.0834905618286133, train acc: 0.61258, test acc: 0.6172\n",
      "train loss: 0.9842662455749511, train acc: 0.64992, test acc: 0.6889\n",
      "train loss: 0.894689280090332, train acc: 0.68432, test acc: 0.7066\n",
      "train loss: 0.8265599975585938, train acc: 0.70888, test acc: 0.7145\n",
      "train loss: 0.7731779887390137, train acc: 0.729, test acc: 0.6998\n",
      "train loss: 0.7262418509674072, train acc: 0.7461, test acc: 0.7589\n",
      "train loss: 0.6856836380004883, train acc: 0.76046, test acc: 0.7583\n",
      "train loss: 0.6538150772857666, train acc: 0.77068, test acc: 0.7615\n",
      "train loss: 0.6210008462524415, train acc: 0.78282, test acc: 0.7854\n",
      "train loss: 0.5928880404663086, train acc: 0.79334, test acc: 0.7161\n",
      "train loss: 0.5699223737335205, train acc: 0.80116, test acc: 0.7956\n",
      "train loss: 0.5466068429565429, train acc: 0.8087, test acc: 0.7781\n",
      "train loss: 0.5237081484985352, train acc: 0.8174, test acc: 0.801\n",
      "train loss: 0.5083673439025879, train acc: 0.82314, test acc: 0.8118\n",
      "train loss: 0.48703202018737796, train acc: 0.83042, test acc: 0.8225\n",
      "train loss: 0.47328286056518554, train acc: 0.83414, test acc: 0.8361\n",
      "train loss: 0.45809278865814207, train acc: 0.83972, test acc: 0.8242\n",
      "train loss: 0.44056855167388914, train acc: 0.84478, test acc: 0.8324\n",
      "train loss: 0.43300747421264646, train acc: 0.8489, test acc: 0.8183\n",
      "train loss: 0.4173538663864136, train acc: 0.85238, test acc: 0.8166\n",
      "train loss: 0.40489655731201174, train acc: 0.85772, test acc: 0.8391\n",
      "train loss: 0.3869428097915649, train acc: 0.86498, test acc: 0.8418\n",
      "train loss: 0.38273515857696533, train acc: 0.86572, test acc: 0.8393\n",
      "train loss: 0.3705810485076904, train acc: 0.86918, test acc: 0.8304\n",
      "train loss: 0.3623394214630127, train acc: 0.8719, test acc: 0.8421\n",
      "train loss: 0.3498252614212036, train acc: 0.87612, test acc: 0.8252\n",
      "train loss: 0.34365375408172605, train acc: 0.87858, test acc: 0.8476\n",
      "train loss: 0.3349368947982788, train acc: 0.88108, test acc: 0.8579\n",
      "train loss: 0.32474950214385984, train acc: 0.8853, test acc: 0.8278\n",
      "train loss: 0.3164173191070557, train acc: 0.88916, test acc: 0.8467\n",
      "train loss: 0.31225435245513916, train acc: 0.89032, test acc: 0.8622\n",
      "train loss: 0.30034586486816406, train acc: 0.89442, test acc: 0.8424\n",
      "train loss: 0.2961006052780151, train acc: 0.8946, test acc: 0.8661\n",
      "train loss: 0.2948951323699951, train acc: 0.89718, test acc: 0.8571\n",
      "train loss: 0.2773783040237427, train acc: 0.90332, test acc: 0.8662\n",
      "train loss: 0.2766063515472412, train acc: 0.90086, test acc: 0.8677\n",
      "train loss: 0.27001438262939453, train acc: 0.90414, test acc: 0.8709\n",
      "train loss: 0.259568461227417, train acc: 0.90838, test acc: 0.8674\n",
      "train loss: 0.2569215783882141, train acc: 0.90726, test acc: 0.8728\n",
      "train loss: 0.25057714868545533, train acc: 0.91078, test acc: 0.8711\n",
      "train loss: 0.24624047298431395, train acc: 0.91386, test acc: 0.8705\n",
      "train loss: 0.24186041852951048, train acc: 0.91404, test acc: 0.8739\n",
      "train loss: 0.23293574911117554, train acc: 0.91694, test acc: 0.8621\n",
      "train loss: 0.2267611016845703, train acc: 0.91904, test acc: 0.8643\n",
      "train loss: 0.2230403363800049, train acc: 0.9214, test acc: 0.8744\n",
      "train loss: 0.22347234018325807, train acc: 0.92052, test acc: 0.8694\n",
      "train loss: 0.2160665616798401, train acc: 0.92314, test acc: 0.87\n",
      "train loss: 0.21022202377319335, train acc: 0.92478, test acc: 0.8736\n",
      "train loss: 0.20749899599075317, train acc: 0.92652, test acc: 0.8795\n",
      "train loss: 0.20295899236679077, train acc: 0.9273, test acc: 0.8725\n",
      "train loss: 0.20067486166000367, train acc: 0.9281, test acc: 0.8721\n",
      "train loss: 0.19885611043930054, train acc: 0.92922, test acc: 0.8761\n",
      "train loss: 0.19007400915145875, train acc: 0.93152, test acc: 0.8786\n",
      "train loss: 0.18935592009544372, train acc: 0.9326, test acc: 0.8801\n",
      "train loss: 0.18294004450798035, train acc: 0.9343, test acc: 0.8837\n",
      "train loss: 0.18350205675125122, train acc: 0.9348, test acc: 0.8698\n",
      "train loss: 0.1782123640346527, train acc: 0.93574, test acc: 0.8816\n",
      "train loss: 0.1735263860321045, train acc: 0.93808, test acc: 0.8801\n",
      "train loss: 0.17029253078460693, train acc: 0.9398, test acc: 0.8771\n",
      "train loss: 0.16859979461669922, train acc: 0.93964, test acc: 0.8708\n",
      "train loss: 0.16563243181228637, train acc: 0.9405, test acc: 0.8634\n",
      "train loss: 0.1580083261680603, train acc: 0.9436, test acc: 0.8779\n",
      "train loss: 0.15741129969596862, train acc: 0.94438, test acc: 0.8837\n",
      "train loss: 0.15828417923927307, train acc: 0.9423, test acc: 0.8875\n",
      "train loss: 0.14772037421226503, train acc: 0.94772, test acc: 0.8821\n",
      "train loss: 0.1516407942390442, train acc: 0.9451, test acc: 0.8889\n",
      "train loss: 0.14582200248241425, train acc: 0.94754, test acc: 0.8893\n",
      "train loss: 0.14449996320724487, train acc: 0.94886, test acc: 0.8862\n",
      "train loss: 0.1406043251132965, train acc: 0.94986, test acc: 0.8873\n",
      "train loss: 0.1391771187353134, train acc: 0.94996, test acc: 0.8892\n",
      "train loss: 0.13399358800411224, train acc: 0.95168, test acc: 0.8861\n",
      "train loss: 0.13151417119979858, train acc: 0.95216, test acc: 0.8866\n",
      "train loss: 0.13419048230171204, train acc: 0.952, test acc: 0.8892\n",
      "train loss: 0.13025222393989563, train acc: 0.95326, test acc: 0.8919\n",
      "train loss: 0.12778963502407073, train acc: 0.95428, test acc: 0.8888\n",
      "train loss: 0.12352485476970673, train acc: 0.95654, test acc: 0.8758\n",
      "train loss: 0.12137795048713684, train acc: 0.9564, test acc: 0.8885\n",
      "train loss: 0.11722244705200195, train acc: 0.958, test acc: 0.8905\n",
      "train loss: 0.12069474135875702, train acc: 0.95746, test acc: 0.8941\n",
      "train loss: 0.11155564060211182, train acc: 0.95964, test acc: 0.8885\n",
      "train loss: 0.11825705470085145, train acc: 0.9572, test acc: 0.8903\n",
      "train loss: 0.11052940349102021, train acc: 0.96066, test acc: 0.8881\n",
      "train loss: 0.11259416051864624, train acc: 0.95938, test acc: 0.8889\n",
      "train loss: 0.10556277710437775, train acc: 0.96238, test acc: 0.8998\n",
      "train loss: 0.10561168710708618, train acc: 0.96224, test acc: 0.8917\n",
      "train loss: 0.10467056025028229, train acc: 0.96232, test acc: 0.8883\n",
      "train loss: 0.10353113172531128, train acc: 0.96288, test acc: 0.8941\n",
      "train loss: 0.10393745487213135, train acc: 0.96252, test acc: 0.8871\n",
      "train loss: 0.10215821076393128, train acc: 0.9633, test acc: 0.8902\n",
      "train loss: 0.10054605977535248, train acc: 0.96466, test acc: 0.8957\n",
      "train loss: 0.09741813532829284, train acc: 0.966, test acc: 0.8913\n",
      "train loss: 0.09719918354034424, train acc: 0.96552, test acc: 0.8896\n",
      "train loss: 0.0935807239818573, train acc: 0.9657, test acc: 0.8939\n",
      "train loss: 0.09462128009080886, train acc: 0.9669, test acc: 0.894\n",
      "train loss: 0.09319106375694275, train acc: 0.967, test acc: 0.8906\n",
      "train loss: 0.08842915324687958, train acc: 0.96874, test acc: 0.888\n",
      "train loss: 0.09541760323047638, train acc: 0.96588, test acc: 0.8927\n",
      "train loss: 0.08716815041542053, train acc: 0.96902, test acc: 0.8969\n",
      "train loss: 0.08409164232254028, train acc: 0.96942, test acc: 0.8912\n",
      "train loss: 0.08823210616588592, train acc: 0.96786, test acc: 0.8941\n",
      "train loss: 0.08436006429195404, train acc: 0.96974, test acc: 0.8949\n",
      "train loss: 0.08149424973964692, train acc: 0.97092, test acc: 0.8985\n",
      "train loss: 0.08358152678489685, train acc: 0.97072, test acc: 0.8979\n",
      "train loss: 0.08285597500562668, train acc: 0.97064, test acc: 0.8937\n",
      "train loss: 0.0799789451622963, train acc: 0.97162, test acc: 0.8953\n",
      "train loss: 0.07903024022579193, train acc: 0.97186, test acc: 0.8977\n",
      "train loss: 0.07878341271400452, train acc: 0.97154, test acc: 0.8911\n",
      "train loss: 0.07639231538295746, train acc: 0.973, test acc: 0.8964\n",
      "train loss: 0.07481653156995774, train acc: 0.97366, test acc: 0.8952\n",
      "train loss: 0.07465127816677093, train acc: 0.97344, test acc: 0.8965\n",
      "train loss: 0.07479442545175552, train acc: 0.973, test acc: 0.9004\n",
      "train loss: 0.07223400847673415, train acc: 0.97534, test acc: 0.8954\n",
      "train loss: 0.0722358788895607, train acc: 0.97496, test acc: 0.8928\n",
      "train loss: 0.07096488105297089, train acc: 0.9755, test acc: 0.8923\n",
      "train loss: 0.07091485745668412, train acc: 0.97536, test acc: 0.8898\n",
      "train loss: 0.06949121098518371, train acc: 0.9756, test acc: 0.8936\n"
     ]
    },
    {
     "name": "stdout",
     "output_type": "stream",
     "text": [
      "train loss: 0.06904429869174958, train acc: 0.97534, test acc: 0.8971\n",
      "train loss: 0.06995185104846954, train acc: 0.97572, test acc: 0.8931\n",
      "train loss: 0.0658977385544777, train acc: 0.9762, test acc: 0.8932\n",
      "train loss: 0.06663578231334687, train acc: 0.97628, test acc: 0.8974\n",
      "train loss: 0.061216841411590575, train acc: 0.97882, test acc: 0.894\n",
      "train loss: 0.06576451285839081, train acc: 0.977, test acc: 0.8977\n",
      "train loss: 0.0622458757853508, train acc: 0.97756, test acc: 0.8932\n",
      "train loss: 0.06347101771116256, train acc: 0.9778, test acc: 0.8906\n",
      "train loss: 0.06018660384893417, train acc: 0.9785, test acc: 0.894\n",
      "train loss: 0.06280301968097687, train acc: 0.97762, test acc: 0.8987\n",
      "train loss: 0.06585178529977799, train acc: 0.97682, test acc: 0.8906\n",
      "train loss: 0.05975224113225937, train acc: 0.97854, test acc: 0.8996\n",
      "train loss: 0.05897056128263473, train acc: 0.97828, test acc: 0.8989\n",
      "train loss: 0.0554973889029026, train acc: 0.9803, test acc: 0.8938\n",
      "train loss: 0.059102096881866455, train acc: 0.9791, test acc: 0.8965\n",
      "train loss: 0.05918426677703857, train acc: 0.97852, test acc: 0.9033\n",
      "train loss: 0.05758871476411819, train acc: 0.97882, test acc: 0.8945\n",
      "train loss: 0.05521141529321671, train acc: 0.98124, test acc: 0.8985\n",
      "train loss: 0.05534259964108467, train acc: 0.9809, test acc: 0.8949\n",
      "train loss: 0.05349888265013695, train acc: 0.98142, test acc: 0.8845\n",
      "train loss: 0.05393654872655868, train acc: 0.98088, test acc: 0.8988\n",
      "train loss: 0.0566230401623249, train acc: 0.97972, test acc: 0.8968\n",
      "train loss: 0.05437118204832077, train acc: 0.98056, test acc: 0.9013\n",
      "train loss: 0.05332427859544754, train acc: 0.98062, test acc: 0.9017\n",
      "train loss: 0.052198294773101804, train acc: 0.9812, test acc: 0.8989\n",
      "train loss: 0.04868370213866234, train acc: 0.98298, test acc: 0.8993\n",
      "train loss: 0.05209335183620453, train acc: 0.98162, test acc: 0.8977\n",
      "train loss: 0.05129316801905632, train acc: 0.9819, test acc: 0.9018\n",
      "train loss: 0.050129308948516846, train acc: 0.9825, test acc: 0.9018\n",
      "train loss: 0.04864424995183945, train acc: 0.98256, test acc: 0.9012\n",
      "train loss: 0.05073430003166199, train acc: 0.98252, test acc: 0.8973\n",
      "train loss: 0.05058665707945824, train acc: 0.98232, test acc: 0.8977\n",
      "train loss: 0.04874218039631843, train acc: 0.98242, test acc: 0.9026\n",
      "train loss: 0.04794895305633545, train acc: 0.98296, test acc: 0.9008\n",
      "train loss: 0.04895655255913734, train acc: 0.9829, test acc: 0.9037\n",
      "train loss: 0.04419657868623734, train acc: 0.98436, test acc: 0.9013\n",
      "train loss: 0.044743912920951846, train acc: 0.98386, test acc: 0.9013\n",
      "train loss: 0.045819553376436235, train acc: 0.98328, test acc: 0.9041\n",
      "train loss: 0.044975517086982726, train acc: 0.98412, test acc: 0.9018\n",
      "train loss: 0.04594276278734207, train acc: 0.98406, test acc: 0.8997\n",
      "train loss: 0.0453305143648386, train acc: 0.98398, test acc: 0.8959\n",
      "train loss: 0.045780221747159955, train acc: 0.98416, test acc: 0.9021\n",
      "train loss: 0.046081060353517535, train acc: 0.9846, test acc: 0.8952\n",
      "train loss: 0.04218981664299965, train acc: 0.98556, test acc: 0.8977\n",
      "train loss: 0.045634037914872166, train acc: 0.98394, test acc: 0.8994\n",
      "train loss: 0.0486855326128006, train acc: 0.98288, test acc: 0.9035\n",
      "train loss: 0.04064387259840965, train acc: 0.9853, test acc: 0.8988\n",
      "train loss: 0.039443177492022516, train acc: 0.98608, test acc: 0.8967\n",
      "train loss: 0.04117365305602551, train acc: 0.98578, test acc: 0.9022\n",
      "train loss: 0.03804486728310585, train acc: 0.98694, test acc: 0.9007\n",
      "train loss: 0.041491475628614424, train acc: 0.9854, test acc: 0.9062\n",
      "train loss: 0.04087622864246369, train acc: 0.98598, test acc: 0.9042\n",
      "train loss: 0.03816005409300327, train acc: 0.98596, test acc: 0.8994\n",
      "train loss: 0.03800462519675493, train acc: 0.9869, test acc: 0.9013\n",
      "train loss: 0.03896156041592359, train acc: 0.98668, test acc: 0.9007\n",
      "train loss: 0.03753956660091877, train acc: 0.9866, test acc: 0.8998\n",
      "train loss: 0.03861373387157917, train acc: 0.98614, test acc: 0.9045\n",
      "train loss: 0.03705200278043747, train acc: 0.98702, test acc: 0.9009\n",
      "train loss: 0.038574871851205825, train acc: 0.98662, test acc: 0.9029\n",
      "train loss: 0.03668717492043972, train acc: 0.98718, test acc: 0.9031\n",
      "train loss: 0.039592467153668404, train acc: 0.98636, test acc: 0.9029\n",
      "train loss: 0.03566913609147072, train acc: 0.98768, test acc: 0.8978\n",
      "train loss: 0.03574834769487381, train acc: 0.98776, test acc: 0.9021\n",
      "train loss: 0.03423575268566609, train acc: 0.98786, test acc: 0.8915\n",
      "train loss: 0.03852296851962805, train acc: 0.987, test acc: 0.8985\n",
      "train loss: 0.03374711484611034, train acc: 0.98778, test acc: 0.9018\n",
      "train loss: 0.03416309279680252, train acc: 0.98828, test acc: 0.9031\n",
      "train loss: 0.03656538996219635, train acc: 0.9873, test acc: 0.9036\n",
      "train loss: 0.0328831956666708, train acc: 0.98882, test acc: 0.9013\n",
      "train loss: 0.033289512949883936, train acc: 0.98816, test acc: 0.9017\n",
      "train loss: 0.03450305630922317, train acc: 0.98822, test acc: 0.9011\n",
      "train loss: 0.03486188922226429, train acc: 0.98772, test acc: 0.9012\n",
      "train loss: 0.03641049087584019, train acc: 0.98708, test acc: 0.8982\n",
      "train loss: 0.03579368547022343, train acc: 0.98756, test acc: 0.9024\n",
      "train loss: 0.03589773099958896, train acc: 0.98748, test acc: 0.9059\n",
      "train loss: 0.03391513785660267, train acc: 0.98796, test acc: 0.8943\n",
      "train loss: 0.03522212544023991, train acc: 0.98846, test acc: 0.9011\n",
      "train loss: 0.03249415984511375, train acc: 0.98862, test acc: 0.9045\n",
      "train loss: 0.03680444035768509, train acc: 0.98696, test acc: 0.8963\n",
      "train loss: 0.03363015968382359, train acc: 0.98832, test acc: 0.9024\n",
      "train loss: 0.033849953651428226, train acc: 0.98844, test acc: 0.9007\n",
      "loss 0.034, train acc 0.988, test acc 0.901\n",
      "2663.6 examples/sec on cuda:0\n",
      " total time 3754.2947487831116\n"
     ]
    }
   ],
   "source": [
    "lr, num_epochs= 0.1, 200\n",
    "def init_weights(m):\n",
    "    if type(m) == nn.Linear or type(m) == nn.Conv2d:\n",
    "        nn.init.xavier_uniform_(m.weight)\n",
    "net.apply(init_weights)\n",
    "\n",
    "device = torch.device('cuda:0')\n",
    "print('training on', device)\n",
    "net.to(device)\n",
    "optimizer = torch.optim.SGD(net.parameters(), lr=lr)\n",
    "loss = nn.CrossEntropyLoss()\n",
    "timer, num_batches = Timer(), len(train_iter)\n",
    "counter = 0\n",
    "best_acc = 0.85\n",
    "for epoch in range(num_epochs):\n",
    "    counter += 1\n",
    "    if counter / 5 == 1:\n",
    "        counter = 0\n",
    "        lr = lr * 0.5\n",
    "    # 训练损失之和，训练准确率之和，样本数\n",
    "    metric = Accumulator(3)\n",
    "    net.train()\n",
    "    for i, (X, y) in enumerate(train_iter):\n",
    "        timer.start()\n",
    "        optimizer.zero_grad()\n",
    "        X, y = X.to(device), y.to(device)\n",
    "        y_hat = net(X)\n",
    "        l = loss(y_hat, y)\n",
    "        l.backward()\n",
    "        optimizer.step()\n",
    "        with torch.no_grad():\n",
    "            metric.add(l * X.shape[0], accuracy(y_hat, y), X.shape[0])\n",
    "        timer.stop()\n",
    "        train_l = metric[0] / metric[2]\n",
    "        train_acc = metric[1] / metric[2]\n",
    "        \n",
    "    test_acc = evaluate_accuracy_gpu(net, test_iter)\n",
    "    if test_acc > best_acc:\n",
    "        best_acc = test_acc\n",
    "        torch.save(net.state_dict(), 'resnet18.params')\n",
    "        torch.save(best_acc, 'best_acc')\n",
    "    print(f'train loss: {train_l}, train acc: {train_acc}, test acc: {test_acc}')\n",
    "print(f'loss {train_l:.3f}, train acc {train_acc:.3f}, '\n",
    "      f'test acc {test_acc:.3f}')\n",
    "print(f'{metric[2] * num_epochs / timer.sum():.1f} examples/sec '\n",
    "      f'on {str(device)}')\n",
    "print(f' total time {timer.sum()}')"
   ]
  },
  {
   "cell_type": "code",
   "execution_count": null,
   "id": "80c43dee324436dd",
   "metadata": {
    "ExecuteTime": {
     "start_time": "2023-10-23T10:28:32.551982569Z"
    }
   },
   "outputs": [],
   "source": []
  }
 ],
 "metadata": {
  "kernelspec": {
   "display_name": "Python 3 (ipykernel)",
   "language": "python",
   "name": "python3"
  },
  "language_info": {
   "codemirror_mode": {
    "name": "ipython",
    "version": 3
   },
   "file_extension": ".py",
   "mimetype": "text/x-python",
   "name": "python",
   "nbconvert_exporter": "python",
   "pygments_lexer": "ipython3",
   "version": "3.8.18"
  }
 },
 "nbformat": 4,
 "nbformat_minor": 5
}
