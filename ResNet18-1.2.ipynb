{
 "cells": [
  {
   "cell_type": "code",
   "execution_count": 131,
   "id": "initial_id",
   "metadata": {
    "ExecuteTime": {
     "end_time": "2023-11-15T08:33:43.033859034Z",
     "start_time": "2023-11-15T08:33:42.992402388Z"
    }
   },
   "outputs": [],
   "source": [
    "# ResNet18 CiFar10\n",
    "\n",
    "import torch\n",
    "import torchvision\n",
    "from torch import nn\n",
    "from torch.nn import functional as F\n",
    "import time\n",
    "from torchvision.transforms import v2\n",
    "from torch.cuda.amp import autocast as autocast, GradScaler\n",
    "import d2l\n"
   ]
  },
  {
   "cell_type": "code",
   "execution_count": 132,
   "id": "24b229694854b296",
   "metadata": {
    "ExecuteTime": {
     "end_time": "2023-11-15T08:33:43.036716203Z",
     "start_time": "2023-11-15T08:33:43.033746084Z"
    }
   },
   "outputs": [],
   "source": [
    "class Timer:\n",
    "    \"\"\"记录多次运行时间\"\"\"\n",
    "    def __init__(self):\n",
    "        \"\"\"Defined in :numref:`subsec_linear_model`\"\"\"\n",
    "        self.times = []\n",
    "        self.start()\n",
    "\n",
    "    def start(self):\n",
    "        \"\"\"启动计时器\"\"\"\n",
    "        self.tik = time.time()\n",
    "\n",
    "    def stop(self):\n",
    "        \"\"\"停止计时器并将时间记录在列表中\"\"\"\n",
    "        self.times.append(time.time() - self.tik)\n",
    "        return self.times[-1]\n",
    "    \n",
    "    def sum(self):\n",
    "        \"\"\"返回时间总和\"\"\"\n",
    "        return sum(self.times)\n",
    "\n",
    "\n",
    "class Accumulator:\n",
    "    \"\"\"在n个变量上累加\"\"\"\n",
    "    def __init__(self, n):\n",
    "        \"\"\"Defined in :numref:`sec_softmax_scratch`\"\"\"\n",
    "        self.data = [0.0] * n\n",
    "\n",
    "    def add(self, *args):\n",
    "        self.data = [a + float(b) for a, b in zip(self.data, args)]\n",
    "\n",
    "    def reset(self):\n",
    "        self.data = [0.0] * len(self.data)\n",
    "\n",
    "    def __getitem__(self, idx):\n",
    "        return self.data[idx]\n",
    "    \n",
    "\n",
    "\n",
    "def accuracy(y_hat, y):  #@save\n",
    "    \"\"\"计算预测正确的数量\"\"\"\n",
    "    if len(y_hat.shape) > 1 and y_hat.shape[1] > 1:\n",
    "        y_hat = y_hat.argmax(axis=1)\n",
    "    cmp = y_hat.type(y.dtype) == y\n",
    "    return float(cmp.type(y.dtype).sum())\n",
    "\n",
    "\n",
    "def evaluate_accuracy_gpu(net, data_iter, device=None):\n",
    "    \"\"\"使用GPU计算模型在数据集上的精度\n",
    "\n",
    "    Defined in :numref:`sec_lenet`\"\"\"\n",
    "    if isinstance(net, nn.Module):\n",
    "        net.eval()  # 设置为评估模式\n",
    "        if not device:\n",
    "            device = next(iter(net.parameters())).device\n",
    "    # 正确预测的数量，总预测的数量\n",
    "    metric = Accumulator(2)\n",
    "    with torch.no_grad():\n",
    "        for X, y in data_iter:\n",
    "            if isinstance(X, list):\n",
    "                # BERT微调所需的（之后将介绍）\n",
    "                X = [x.to(device) for x in X]\n",
    "            else:\n",
    "                X = X.to(device)\n",
    "            y = y.to(device)\n",
    "            metric.add(accuracy(net(X), y), y.numel())\n",
    "    return metric[0] / metric[1]\n"
   ]
  },
  {
   "cell_type": "code",
   "execution_count": 133,
   "id": "c97feac3d2ed5222",
   "metadata": {
    "ExecuteTime": {
     "end_time": "2023-11-15T08:33:43.037102646Z",
     "start_time": "2023-11-15T08:33:43.036605353Z"
    }
   },
   "outputs": [],
   "source": [
    "class Residual(nn.Module):  #@save\n",
    "    def __init__(self, input_channels, num_channels,\n",
    "                 use_1x1conv=False, strides=1):\n",
    "        super().__init__()\n",
    "        self.conv1 = nn.Conv2d(input_channels, num_channels,\n",
    "                               kernel_size=3, padding=1, stride=strides)\n",
    "        self.conv2 = nn.Conv2d(num_channels, num_channels,\n",
    "                               kernel_size=3, padding=1)\n",
    "        if use_1x1conv:\n",
    "            self.conv3 = nn.Conv2d(input_channels, num_channels,\n",
    "                                   kernel_size=1, stride=strides)\n",
    "        else:\n",
    "            self.conv3 = None\n",
    "        self.bn1 = nn.BatchNorm2d(num_channels)\n",
    "        self.bn2 = nn.BatchNorm2d(num_channels)\n",
    "\n",
    "    def forward(self, X):\n",
    "        Y = F.relu(self.bn1(self.conv1(X)))\n",
    "        Y = self.bn2(self.conv2(Y))\n",
    "        if self.conv3:\n",
    "            X = self.conv3(X)\n",
    "        Y += X\n",
    "        return F.relu(Y)"
   ]
  },
  {
   "cell_type": "code",
   "execution_count": 134,
   "id": "e26d8d3a5f38a193",
   "metadata": {
    "ExecuteTime": {
     "end_time": "2023-11-15T08:33:43.037192216Z",
     "start_time": "2023-11-15T08:33:43.036692173Z"
    }
   },
   "outputs": [],
   "source": [
    "def resnet_block(input_channels, num_channels, num_residuals,\n",
    "                 first_block=False):\n",
    "    blk = []\n",
    "    for i in range(num_residuals):\n",
    "        if i == 0 and not first_block:\n",
    "            blk.append(Residual(input_channels, num_channels,\n",
    "                                use_1x1conv=True, strides=2))\n",
    "        else:\n",
    "            blk.append(Residual(num_channels, num_channels))\n",
    "    return blk"
   ]
  },
  {
   "cell_type": "code",
   "execution_count": 135,
   "id": "44d27cbdecb7ada6",
   "metadata": {
    "ExecuteTime": {
     "end_time": "2023-11-15T08:33:43.037470268Z",
     "start_time": "2023-11-15T08:33:43.036761204Z"
    }
   },
   "outputs": [],
   "source": [
    "b1 = nn.Sequential(nn.Conv2d(3, 64, kernel_size=3, stride=1, padding=1),\n",
    "                   nn.BatchNorm2d(64), nn.ReLU(),\n",
    "                   # nn.MaxPool2d(kernel_size=3, stride=1, padding=1)\n",
    "                    )"
   ]
  },
  {
   "cell_type": "code",
   "execution_count": 136,
   "id": "488a34958636a400",
   "metadata": {
    "ExecuteTime": {
     "end_time": "2023-11-15T08:33:43.080541614Z",
     "start_time": "2023-11-15T08:33:43.036832574Z"
    }
   },
   "outputs": [],
   "source": [
    "b2 = nn.Sequential(*resnet_block(64, 64, 2, first_block=True))\n",
    "b3 = nn.Sequential(*resnet_block(64, 128, 2))\n",
    "b4 = nn.Sequential(*resnet_block(128, 256, 2))\n",
    "b5 = nn.Sequential(*resnet_block(256, 512, 2))"
   ]
  },
  {
   "cell_type": "code",
   "execution_count": 137,
   "id": "3471f26fcc022173",
   "metadata": {
    "ExecuteTime": {
     "end_time": "2023-11-15T08:33:43.086773945Z",
     "start_time": "2023-11-15T08:33:43.081894363Z"
    }
   },
   "outputs": [],
   "source": [
    "net = nn.Sequential(b1, b2, b3, b4, b5,\n",
    "                    nn.AdaptiveAvgPool2d((1,1)),\n",
    "                    nn.Flatten(), nn.Linear(512, 10))"
   ]
  },
  {
   "cell_type": "code",
   "execution_count": 138,
   "id": "e9ba1c3e8ba690ca",
   "metadata": {
    "ExecuteTime": {
     "end_time": "2023-11-15T08:33:43.099172317Z",
     "start_time": "2023-11-15T08:33:43.084647461Z"
    }
   },
   "outputs": [
    {
     "name": "stdout",
     "output_type": "stream",
     "text": [
      "Sequential output shape:\t torch.Size([1, 64, 32, 32])\n",
      "Sequential output shape:\t torch.Size([1, 64, 32, 32])\n",
      "Sequential output shape:\t torch.Size([1, 128, 16, 16])\n",
      "Sequential output shape:\t torch.Size([1, 256, 8, 8])\n",
      "Sequential output shape:\t torch.Size([1, 512, 4, 4])\n",
      "AdaptiveAvgPool2d output shape:\t torch.Size([1, 512, 1, 1])\n",
      "Flatten output shape:\t torch.Size([1, 512])\n",
      "Linear output shape:\t torch.Size([1, 10])\n"
     ]
    }
   ],
   "source": [
    "X = torch.rand(size=(1, 3, 32, 32))\n",
    "for layer in net:\n",
    "    X = layer(X)\n",
    "    print(layer.__class__.__name__,'output shape:\\t', X.shape)"
   ]
  },
  {
   "cell_type": "code",
   "execution_count": 139,
   "id": "b7b49bb6eeaed2cc",
   "metadata": {
    "ExecuteTime": {
     "end_time": "2023-11-15T08:33:44.166940915Z",
     "start_time": "2023-11-15T08:33:43.100939829Z"
    }
   },
   "outputs": [
    {
     "name": "stdout",
     "output_type": "stream",
     "text": [
      "Files already downloaded and verified\n",
      "Files already downloaded and verified\n"
     ]
    }
   ],
   "source": [
    "trans = nn.Sequential(\n",
    "                      v2.RandomCrop(32, padding=4),\n",
    "                      v2.RandomHorizontalFlip(p=0.5), # sequence\n",
    "                      v2.RandomGrayscale(p=0.5),\n",
    "                      v2.ToImage(),\n",
    "                      v2.ToDtype(torch.float32, scale=True),v2.RandomRotation(45),\n",
    "                      \n",
    "                      # v2.AutoAugment()\n",
    "                      )\n",
    "\n",
    "train_data = torchvision.datasets.CIFAR10(root='./data', train=True, transform=trans, download=True)\n",
    "test_data = torchvision.datasets.CIFAR10(root='./data', train=False, \n",
    "                                         transform=nn.Sequential(v2.ToImage(), v2.ToDtype(torch.float32, scale=True)), \n",
    "                                         download=True)\n",
    "\n",
    "batch_size = 128\n",
    "train_iter = torch.utils.data.DataLoader(train_data, batch_size, shuffle=True, num_workers=6)\n",
    "test_iter = torch.utils.data.DataLoader(test_data, batch_size, shuffle=True, num_workers=6)"
   ]
  },
  {
   "cell_type": "code",
   "execution_count": 140,
   "id": "34f86b5f23881898",
   "metadata": {},
   "outputs": [
    {
     "name": "stdout",
     "output_type": "stream",
     "text": [
      "loss 0.156, train acc 0.945, test acc 0.904\n",
      "4424.1 examples/sec on cuda:0\n",
      " total time 1130.1653168201447\n"
     ]
    },
    {
     "data": {
      "text/plain": "<Figure size 350x250 with 1 Axes>",
      "image/svg+xml": "<?xml version=\"1.0\" encoding=\"utf-8\" standalone=\"no\"?>\n<!DOCTYPE svg PUBLIC \"-//W3C//DTD SVG 1.1//EN\"\n  \"http://www.w3.org/Graphics/SVG/1.1/DTD/svg11.dtd\">\n<svg xmlns:xlink=\"http://www.w3.org/1999/xlink\" width=\"242.146875pt\" height=\"183.35625pt\" viewBox=\"0 0 242.146875 183.35625\" xmlns=\"http://www.w3.org/2000/svg\" version=\"1.1\">\n <metadata>\n  <rdf:RDF xmlns:dc=\"http://purl.org/dc/elements/1.1/\" xmlns:cc=\"http://creativecommons.org/ns#\" xmlns:rdf=\"http://www.w3.org/1999/02/22-rdf-syntax-ns#\">\n   <cc:Work>\n    <dc:type rdf:resource=\"http://purl.org/dc/dcmitype/StillImage\"/>\n    <dc:date>2023-11-15T16:57:13.106488</dc:date>\n    <dc:format>image/svg+xml</dc:format>\n    <dc:creator>\n     <cc:Agent>\n      <dc:title>Matplotlib v3.7.2, https://matplotlib.org/</dc:title>\n     </cc:Agent>\n    </dc:creator>\n   </cc:Work>\n  </rdf:RDF>\n </metadata>\n <defs>\n  <style type=\"text/css\">*{stroke-linejoin: round; stroke-linecap: butt}</style>\n </defs>\n <g id=\"figure_1\">\n  <g id=\"patch_1\">\n   <path d=\"M 0 183.35625 \nL 242.146875 183.35625 \nL 242.146875 0 \nL 0 0 \nz\n\" style=\"fill: #ffffff\"/>\n  </g>\n  <g id=\"axes_1\">\n   <g id=\"patch_2\">\n    <path d=\"M 30.103125 145.8 \nL 225.403125 145.8 \nL 225.403125 7.2 \nL 30.103125 7.2 \nz\n\" style=\"fill: #ffffff\"/>\n   </g>\n   <g id=\"matplotlib.axis_1\">\n    <g id=\"xtick_1\">\n     <g id=\"line2d_1\">\n      <path d=\"M 67.584943 145.8 \nL 67.584943 7.2 \n\" clip-path=\"url(#p32b9fa145c)\" style=\"fill: none; stroke: #b0b0b0; stroke-width: 0.8; stroke-linecap: square\"/>\n     </g>\n     <g id=\"line2d_2\">\n      <defs>\n       <path id=\"mf68b35e9bd\" d=\"M 0 0 \nL 0 3.5 \n\" style=\"stroke: #000000; stroke-width: 0.8\"/>\n      </defs>\n      <g>\n       <use xlink:href=\"#mf68b35e9bd\" x=\"67.584943\" y=\"145.8\" style=\"stroke: #000000; stroke-width: 0.8\"/>\n      </g>\n     </g>\n     <g id=\"text_1\">\n      <!-- 20 -->\n      <g transform=\"translate(61.222443 160.398438) scale(0.1 -0.1)\">\n       <defs>\n        <path id=\"DejaVuSans-32\" d=\"M 1228 531 \nL 3431 531 \nL 3431 0 \nL 469 0 \nL 469 531 \nQ 828 903 1448 1529 \nQ 2069 2156 2228 2338 \nQ 2531 2678 2651 2914 \nQ 2772 3150 2772 3378 \nQ 2772 3750 2511 3984 \nQ 2250 4219 1831 4219 \nQ 1534 4219 1204 4116 \nQ 875 4013 500 3803 \nL 500 4441 \nQ 881 4594 1212 4672 \nQ 1544 4750 1819 4750 \nQ 2544 4750 2975 4387 \nQ 3406 4025 3406 3419 \nQ 3406 3131 3298 2873 \nQ 3191 2616 2906 2266 \nQ 2828 2175 2409 1742 \nQ 1991 1309 1228 531 \nz\n\" transform=\"scale(0.015625)\"/>\n        <path id=\"DejaVuSans-30\" d=\"M 2034 4250 \nQ 1547 4250 1301 3770 \nQ 1056 3291 1056 2328 \nQ 1056 1369 1301 889 \nQ 1547 409 2034 409 \nQ 2525 409 2770 889 \nQ 3016 1369 3016 2328 \nQ 3016 3291 2770 3770 \nQ 2525 4250 2034 4250 \nz\nM 2034 4750 \nQ 2819 4750 3233 4129 \nQ 3647 3509 3647 2328 \nQ 3647 1150 3233 529 \nQ 2819 -91 2034 -91 \nQ 1250 -91 836 529 \nQ 422 1150 422 2328 \nQ 422 3509 836 4129 \nQ 1250 4750 2034 4750 \nz\n\" transform=\"scale(0.015625)\"/>\n       </defs>\n       <use xlink:href=\"#DejaVuSans-32\"/>\n       <use xlink:href=\"#DejaVuSans-30\" x=\"63.623047\"/>\n      </g>\n     </g>\n    </g>\n    <g id=\"xtick_2\">\n     <g id=\"line2d_3\">\n      <path d=\"M 107.039489 145.8 \nL 107.039489 7.2 \n\" clip-path=\"url(#p32b9fa145c)\" style=\"fill: none; stroke: #b0b0b0; stroke-width: 0.8; stroke-linecap: square\"/>\n     </g>\n     <g id=\"line2d_4\">\n      <g>\n       <use xlink:href=\"#mf68b35e9bd\" x=\"107.039489\" y=\"145.8\" style=\"stroke: #000000; stroke-width: 0.8\"/>\n      </g>\n     </g>\n     <g id=\"text_2\">\n      <!-- 40 -->\n      <g transform=\"translate(100.676989 160.398438) scale(0.1 -0.1)\">\n       <defs>\n        <path id=\"DejaVuSans-34\" d=\"M 2419 4116 \nL 825 1625 \nL 2419 1625 \nL 2419 4116 \nz\nM 2253 4666 \nL 3047 4666 \nL 3047 1625 \nL 3713 1625 \nL 3713 1100 \nL 3047 1100 \nL 3047 0 \nL 2419 0 \nL 2419 1100 \nL 313 1100 \nL 313 1709 \nL 2253 4666 \nz\n\" transform=\"scale(0.015625)\"/>\n       </defs>\n       <use xlink:href=\"#DejaVuSans-34\"/>\n       <use xlink:href=\"#DejaVuSans-30\" x=\"63.623047\"/>\n      </g>\n     </g>\n    </g>\n    <g id=\"xtick_3\">\n     <g id=\"line2d_5\">\n      <path d=\"M 146.494034 145.8 \nL 146.494034 7.2 \n\" clip-path=\"url(#p32b9fa145c)\" style=\"fill: none; stroke: #b0b0b0; stroke-width: 0.8; stroke-linecap: square\"/>\n     </g>\n     <g id=\"line2d_6\">\n      <g>\n       <use xlink:href=\"#mf68b35e9bd\" x=\"146.494034\" y=\"145.8\" style=\"stroke: #000000; stroke-width: 0.8\"/>\n      </g>\n     </g>\n     <g id=\"text_3\">\n      <!-- 60 -->\n      <g transform=\"translate(140.131534 160.398438) scale(0.1 -0.1)\">\n       <defs>\n        <path id=\"DejaVuSans-36\" d=\"M 2113 2584 \nQ 1688 2584 1439 2293 \nQ 1191 2003 1191 1497 \nQ 1191 994 1439 701 \nQ 1688 409 2113 409 \nQ 2538 409 2786 701 \nQ 3034 994 3034 1497 \nQ 3034 2003 2786 2293 \nQ 2538 2584 2113 2584 \nz\nM 3366 4563 \nL 3366 3988 \nQ 3128 4100 2886 4159 \nQ 2644 4219 2406 4219 \nQ 1781 4219 1451 3797 \nQ 1122 3375 1075 2522 \nQ 1259 2794 1537 2939 \nQ 1816 3084 2150 3084 \nQ 2853 3084 3261 2657 \nQ 3669 2231 3669 1497 \nQ 3669 778 3244 343 \nQ 2819 -91 2113 -91 \nQ 1303 -91 875 529 \nQ 447 1150 447 2328 \nQ 447 3434 972 4092 \nQ 1497 4750 2381 4750 \nQ 2619 4750 2861 4703 \nQ 3103 4656 3366 4563 \nz\n\" transform=\"scale(0.015625)\"/>\n       </defs>\n       <use xlink:href=\"#DejaVuSans-36\"/>\n       <use xlink:href=\"#DejaVuSans-30\" x=\"63.623047\"/>\n      </g>\n     </g>\n    </g>\n    <g id=\"xtick_4\">\n     <g id=\"line2d_7\">\n      <path d=\"M 185.94858 145.8 \nL 185.94858 7.2 \n\" clip-path=\"url(#p32b9fa145c)\" style=\"fill: none; stroke: #b0b0b0; stroke-width: 0.8; stroke-linecap: square\"/>\n     </g>\n     <g id=\"line2d_8\">\n      <g>\n       <use xlink:href=\"#mf68b35e9bd\" x=\"185.94858\" y=\"145.8\" style=\"stroke: #000000; stroke-width: 0.8\"/>\n      </g>\n     </g>\n     <g id=\"text_4\">\n      <!-- 80 -->\n      <g transform=\"translate(179.58608 160.398438) scale(0.1 -0.1)\">\n       <defs>\n        <path id=\"DejaVuSans-38\" d=\"M 2034 2216 \nQ 1584 2216 1326 1975 \nQ 1069 1734 1069 1313 \nQ 1069 891 1326 650 \nQ 1584 409 2034 409 \nQ 2484 409 2743 651 \nQ 3003 894 3003 1313 \nQ 3003 1734 2745 1975 \nQ 2488 2216 2034 2216 \nz\nM 1403 2484 \nQ 997 2584 770 2862 \nQ 544 3141 544 3541 \nQ 544 4100 942 4425 \nQ 1341 4750 2034 4750 \nQ 2731 4750 3128 4425 \nQ 3525 4100 3525 3541 \nQ 3525 3141 3298 2862 \nQ 3072 2584 2669 2484 \nQ 3125 2378 3379 2068 \nQ 3634 1759 3634 1313 \nQ 3634 634 3220 271 \nQ 2806 -91 2034 -91 \nQ 1263 -91 848 271 \nQ 434 634 434 1313 \nQ 434 1759 690 2068 \nQ 947 2378 1403 2484 \nz\nM 1172 3481 \nQ 1172 3119 1398 2916 \nQ 1625 2713 2034 2713 \nQ 2441 2713 2670 2916 \nQ 2900 3119 2900 3481 \nQ 2900 3844 2670 4047 \nQ 2441 4250 2034 4250 \nQ 1625 4250 1398 4047 \nQ 1172 3844 1172 3481 \nz\n\" transform=\"scale(0.015625)\"/>\n       </defs>\n       <use xlink:href=\"#DejaVuSans-38\"/>\n       <use xlink:href=\"#DejaVuSans-30\" x=\"63.623047\"/>\n      </g>\n     </g>\n    </g>\n    <g id=\"xtick_5\">\n     <g id=\"line2d_9\">\n      <path d=\"M 225.403125 145.8 \nL 225.403125 7.2 \n\" clip-path=\"url(#p32b9fa145c)\" style=\"fill: none; stroke: #b0b0b0; stroke-width: 0.8; stroke-linecap: square\"/>\n     </g>\n     <g id=\"line2d_10\">\n      <g>\n       <use xlink:href=\"#mf68b35e9bd\" x=\"225.403125\" y=\"145.8\" style=\"stroke: #000000; stroke-width: 0.8\"/>\n      </g>\n     </g>\n     <g id=\"text_5\">\n      <!-- 100 -->\n      <g transform=\"translate(215.859375 160.398438) scale(0.1 -0.1)\">\n       <defs>\n        <path id=\"DejaVuSans-31\" d=\"M 794 531 \nL 1825 531 \nL 1825 4091 \nL 703 3866 \nL 703 4441 \nL 1819 4666 \nL 2450 4666 \nL 2450 531 \nL 3481 531 \nL 3481 0 \nL 794 0 \nL 794 531 \nz\n\" transform=\"scale(0.015625)\"/>\n       </defs>\n       <use xlink:href=\"#DejaVuSans-31\"/>\n       <use xlink:href=\"#DejaVuSans-30\" x=\"63.623047\"/>\n       <use xlink:href=\"#DejaVuSans-30\" x=\"127.246094\"/>\n      </g>\n     </g>\n    </g>\n    <g id=\"text_6\">\n     <!-- epoch -->\n     <g transform=\"translate(112.525 174.076563) scale(0.1 -0.1)\">\n      <defs>\n       <path id=\"DejaVuSans-65\" d=\"M 3597 1894 \nL 3597 1613 \nL 953 1613 \nQ 991 1019 1311 708 \nQ 1631 397 2203 397 \nQ 2534 397 2845 478 \nQ 3156 559 3463 722 \nL 3463 178 \nQ 3153 47 2828 -22 \nQ 2503 -91 2169 -91 \nQ 1331 -91 842 396 \nQ 353 884 353 1716 \nQ 353 2575 817 3079 \nQ 1281 3584 2069 3584 \nQ 2775 3584 3186 3129 \nQ 3597 2675 3597 1894 \nz\nM 3022 2063 \nQ 3016 2534 2758 2815 \nQ 2500 3097 2075 3097 \nQ 1594 3097 1305 2825 \nQ 1016 2553 972 2059 \nL 3022 2063 \nz\n\" transform=\"scale(0.015625)\"/>\n       <path id=\"DejaVuSans-70\" d=\"M 1159 525 \nL 1159 -1331 \nL 581 -1331 \nL 581 3500 \nL 1159 3500 \nL 1159 2969 \nQ 1341 3281 1617 3432 \nQ 1894 3584 2278 3584 \nQ 2916 3584 3314 3078 \nQ 3713 2572 3713 1747 \nQ 3713 922 3314 415 \nQ 2916 -91 2278 -91 \nQ 1894 -91 1617 61 \nQ 1341 213 1159 525 \nz\nM 3116 1747 \nQ 3116 2381 2855 2742 \nQ 2594 3103 2138 3103 \nQ 1681 3103 1420 2742 \nQ 1159 2381 1159 1747 \nQ 1159 1113 1420 752 \nQ 1681 391 2138 391 \nQ 2594 391 2855 752 \nQ 3116 1113 3116 1747 \nz\n\" transform=\"scale(0.015625)\"/>\n       <path id=\"DejaVuSans-6f\" d=\"M 1959 3097 \nQ 1497 3097 1228 2736 \nQ 959 2375 959 1747 \nQ 959 1119 1226 758 \nQ 1494 397 1959 397 \nQ 2419 397 2687 759 \nQ 2956 1122 2956 1747 \nQ 2956 2369 2687 2733 \nQ 2419 3097 1959 3097 \nz\nM 1959 3584 \nQ 2709 3584 3137 3096 \nQ 3566 2609 3566 1747 \nQ 3566 888 3137 398 \nQ 2709 -91 1959 -91 \nQ 1206 -91 779 398 \nQ 353 888 353 1747 \nQ 353 2609 779 3096 \nQ 1206 3584 1959 3584 \nz\n\" transform=\"scale(0.015625)\"/>\n       <path id=\"DejaVuSans-63\" d=\"M 3122 3366 \nL 3122 2828 \nQ 2878 2963 2633 3030 \nQ 2388 3097 2138 3097 \nQ 1578 3097 1268 2742 \nQ 959 2388 959 1747 \nQ 959 1106 1268 751 \nQ 1578 397 2138 397 \nQ 2388 397 2633 464 \nQ 2878 531 3122 666 \nL 3122 134 \nQ 2881 22 2623 -34 \nQ 2366 -91 2075 -91 \nQ 1284 -91 818 406 \nQ 353 903 353 1747 \nQ 353 2603 823 3093 \nQ 1294 3584 2113 3584 \nQ 2378 3584 2631 3529 \nQ 2884 3475 3122 3366 \nz\n\" transform=\"scale(0.015625)\"/>\n       <path id=\"DejaVuSans-68\" d=\"M 3513 2113 \nL 3513 0 \nL 2938 0 \nL 2938 2094 \nQ 2938 2591 2744 2837 \nQ 2550 3084 2163 3084 \nQ 1697 3084 1428 2787 \nQ 1159 2491 1159 1978 \nL 1159 0 \nL 581 0 \nL 581 4863 \nL 1159 4863 \nL 1159 2956 \nQ 1366 3272 1645 3428 \nQ 1925 3584 2291 3584 \nQ 2894 3584 3203 3211 \nQ 3513 2838 3513 2113 \nz\n\" transform=\"scale(0.015625)\"/>\n      </defs>\n      <use xlink:href=\"#DejaVuSans-65\"/>\n      <use xlink:href=\"#DejaVuSans-70\" x=\"61.523438\"/>\n      <use xlink:href=\"#DejaVuSans-6f\" x=\"125\"/>\n      <use xlink:href=\"#DejaVuSans-63\" x=\"186.181641\"/>\n      <use xlink:href=\"#DejaVuSans-68\" x=\"241.162109\"/>\n     </g>\n    </g>\n   </g>\n   <g id=\"matplotlib.axis_2\">\n    <g id=\"ytick_1\">\n     <g id=\"line2d_11\">\n      <path d=\"M 30.103125 121.359319 \nL 225.403125 121.359319 \n\" clip-path=\"url(#p32b9fa145c)\" style=\"fill: none; stroke: #b0b0b0; stroke-width: 0.8; stroke-linecap: square\"/>\n     </g>\n     <g id=\"line2d_12\">\n      <defs>\n       <path id=\"mf8791786eb\" d=\"M 0 0 \nL -3.5 0 \n\" style=\"stroke: #000000; stroke-width: 0.8\"/>\n      </defs>\n      <g>\n       <use xlink:href=\"#mf8791786eb\" x=\"30.103125\" y=\"121.359319\" style=\"stroke: #000000; stroke-width: 0.8\"/>\n      </g>\n     </g>\n     <g id=\"text_7\">\n      <!-- 0.5 -->\n      <g transform=\"translate(7.2 125.158538) scale(0.1 -0.1)\">\n       <defs>\n        <path id=\"DejaVuSans-2e\" d=\"M 684 794 \nL 1344 794 \nL 1344 0 \nL 684 0 \nL 684 794 \nz\n\" transform=\"scale(0.015625)\"/>\n        <path id=\"DejaVuSans-35\" d=\"M 691 4666 \nL 3169 4666 \nL 3169 4134 \nL 1269 4134 \nL 1269 2991 \nQ 1406 3038 1543 3061 \nQ 1681 3084 1819 3084 \nQ 2600 3084 3056 2656 \nQ 3513 2228 3513 1497 \nQ 3513 744 3044 326 \nQ 2575 -91 1722 -91 \nQ 1428 -91 1123 -41 \nQ 819 9 494 109 \nL 494 744 \nQ 775 591 1075 516 \nQ 1375 441 1709 441 \nQ 2250 441 2565 725 \nQ 2881 1009 2881 1497 \nQ 2881 1984 2565 2268 \nQ 2250 2553 1709 2553 \nQ 1456 2553 1204 2497 \nQ 953 2441 691 2322 \nL 691 4666 \nz\n\" transform=\"scale(0.015625)\"/>\n       </defs>\n       <use xlink:href=\"#DejaVuSans-30\"/>\n       <use xlink:href=\"#DejaVuSans-2e\" x=\"63.623047\"/>\n       <use xlink:href=\"#DejaVuSans-35\" x=\"95.410156\"/>\n      </g>\n     </g>\n    </g>\n    <g id=\"ytick_2\">\n     <g id=\"line2d_13\">\n      <path d=\"M 30.103125 95.639401 \nL 225.403125 95.639401 \n\" clip-path=\"url(#p32b9fa145c)\" style=\"fill: none; stroke: #b0b0b0; stroke-width: 0.8; stroke-linecap: square\"/>\n     </g>\n     <g id=\"line2d_14\">\n      <g>\n       <use xlink:href=\"#mf8791786eb\" x=\"30.103125\" y=\"95.639401\" style=\"stroke: #000000; stroke-width: 0.8\"/>\n      </g>\n     </g>\n     <g id=\"text_8\">\n      <!-- 1.0 -->\n      <g transform=\"translate(7.2 99.438619) scale(0.1 -0.1)\">\n       <use xlink:href=\"#DejaVuSans-31\"/>\n       <use xlink:href=\"#DejaVuSans-2e\" x=\"63.623047\"/>\n       <use xlink:href=\"#DejaVuSans-30\" x=\"95.410156\"/>\n      </g>\n     </g>\n    </g>\n    <g id=\"ytick_3\">\n     <g id=\"line2d_15\">\n      <path d=\"M 30.103125 69.919482 \nL 225.403125 69.919482 \n\" clip-path=\"url(#p32b9fa145c)\" style=\"fill: none; stroke: #b0b0b0; stroke-width: 0.8; stroke-linecap: square\"/>\n     </g>\n     <g id=\"line2d_16\">\n      <g>\n       <use xlink:href=\"#mf8791786eb\" x=\"30.103125\" y=\"69.919482\" style=\"stroke: #000000; stroke-width: 0.8\"/>\n      </g>\n     </g>\n     <g id=\"text_9\">\n      <!-- 1.5 -->\n      <g transform=\"translate(7.2 73.718701) scale(0.1 -0.1)\">\n       <use xlink:href=\"#DejaVuSans-31\"/>\n       <use xlink:href=\"#DejaVuSans-2e\" x=\"63.623047\"/>\n       <use xlink:href=\"#DejaVuSans-35\" x=\"95.410156\"/>\n      </g>\n     </g>\n    </g>\n    <g id=\"ytick_4\">\n     <g id=\"line2d_17\">\n      <path d=\"M 30.103125 44.199563 \nL 225.403125 44.199563 \n\" clip-path=\"url(#p32b9fa145c)\" style=\"fill: none; stroke: #b0b0b0; stroke-width: 0.8; stroke-linecap: square\"/>\n     </g>\n     <g id=\"line2d_18\">\n      <g>\n       <use xlink:href=\"#mf8791786eb\" x=\"30.103125\" y=\"44.199563\" style=\"stroke: #000000; stroke-width: 0.8\"/>\n      </g>\n     </g>\n     <g id=\"text_10\">\n      <!-- 2.0 -->\n      <g transform=\"translate(7.2 47.998782) scale(0.1 -0.1)\">\n       <use xlink:href=\"#DejaVuSans-32\"/>\n       <use xlink:href=\"#DejaVuSans-2e\" x=\"63.623047\"/>\n       <use xlink:href=\"#DejaVuSans-30\" x=\"95.410156\"/>\n      </g>\n     </g>\n    </g>\n    <g id=\"ytick_5\">\n     <g id=\"line2d_19\">\n      <path d=\"M 30.103125 18.479644 \nL 225.403125 18.479644 \n\" clip-path=\"url(#p32b9fa145c)\" style=\"fill: none; stroke: #b0b0b0; stroke-width: 0.8; stroke-linecap: square\"/>\n     </g>\n     <g id=\"line2d_20\">\n      <g>\n       <use xlink:href=\"#mf8791786eb\" x=\"30.103125\" y=\"18.479644\" style=\"stroke: #000000; stroke-width: 0.8\"/>\n      </g>\n     </g>\n     <g id=\"text_11\">\n      <!-- 2.5 -->\n      <g transform=\"translate(7.2 22.278863) scale(0.1 -0.1)\">\n       <use xlink:href=\"#DejaVuSans-32\"/>\n       <use xlink:href=\"#DejaVuSans-2e\" x=\"63.623047\"/>\n       <use xlink:href=\"#DejaVuSans-35\" x=\"95.410156\"/>\n      </g>\n     </g>\n    </g>\n   </g>\n   <g id=\"line2d_21\">\n    <path d=\"M 28.523934 13.5 \nL 28.917471 30.305261 \nL 29.311007 38.318424 \nL 30.103125 47.422632 \nL 30.496661 67.083824 \nL 32.075852 71.485254 \nL 32.469389 77.673023 \nL 32.862925 78.296826 \nL 34.04858 81.160591 \nL 34.442116 86.766216 \nL 34.835652 86.767921 \nL 36.021307 88.678362 \nL 36.414843 93.297988 \nL 36.80838 92.976957 \nL 37.595452 93.847472 \nL 37.994034 94.157913 \nL 38.38757 96.566963 \nL 38.781107 97.129386 \nL 39.174643 97.280233 \nL 39.966761 98.171305 \nL 40.360298 101.320485 \nL 40.753834 100.775732 \nL 41.540907 100.944703 \nL 41.939489 101.080433 \nL 42.333025 102.270939 \nL 43.120098 103.182814 \nL 43.912216 103.479067 \nL 44.305752 105.943366 \nL 44.699289 105.286219 \nL 45.092825 105.653912 \nL 45.486361 105.86839 \nL 45.884943 105.847729 \nL 46.27848 108.115034 \nL 47.065552 107.354732 \nL 47.85767 107.855776 \nL 48.251207 108.616399 \nL 48.644743 108.507759 \nL 49.431816 109.05019 \nL 49.830398 109.093209 \nL 50.223934 110.128065 \nL 51.011007 110.821699 \nL 51.404543 110.489304 \nL 51.803125 110.473162 \nL 52.196661 112.358633 \nL 52.590198 112.457672 \nL 52.983734 112.424691 \nL 53.377271 112.101058 \nL 53.775852 112.021163 \nL 54.169389 112.801094 \nL 54.956461 113.268024 \nL 55.349998 113.092855 \nL 55.74858 113.121922 \nL 56.142116 114.628488 \nL 56.929189 114.203662 \nL 57.721307 114.185781 \nL 58.114843 115.474656 \nL 58.50838 115.128993 \nL 58.901916 115.275636 \nL 59.694034 115.286732 \nL 60.08757 116.512789 \nL 60.481107 116.522556 \nL 60.874643 116.30055 \nL 61.26818 116.517457 \nL 61.666761 116.326713 \nL 62.453834 117.098141 \nL 62.847371 117.012404 \nL 63.639489 117.131918 \nL 64.033025 118.298541 \nL 64.426561 118.408956 \nL 64.820098 118.075584 \nL 65.612216 118.081786 \nL 66.005752 119.947209 \nL 66.399289 119.233581 \nL 66.792825 118.976513 \nL 67.584943 118.767654 \nL 67.97848 119.97936 \nL 68.372016 119.957722 \nL 68.765552 119.601212 \nL 69.55767 119.395481 \nL 69.951207 120.764005 \nL 70.344743 120.236729 \nL 70.73828 119.990002 \nL 71.131816 120.145072 \nL 71.530398 120.157188 \nL 71.923934 120.362829 \nL 72.317471 120.38411 \nL 72.711007 120.616659 \nL 73.503125 120.548659 \nL 73.896661 121.062749 \nL 74.290198 121.361769 \nL 75.077271 121.186819 \nL 75.475852 121.111221 \nL 75.869389 121.849349 \nL 76.262925 122.047136 \nL 77.049998 121.738207 \nL 77.44858 121.814984 \nL 77.842116 123.192873 \nL 78.629189 122.23613 \nL 79.022725 122.22641 \nL 79.416261 122.028637 \nL 79.421307 122.048241 \nL 79.814843 123.447764 \nL 80.20838 123.195305 \nL 80.601916 123.127392 \nL 80.995452 122.897512 \nL 81.394034 123.041254 \nL 81.78757 124.050608 \nL 82.181107 123.589876 \nL 82.574643 123.366631 \nL 83.366761 123.455572 \nL 84.547371 124.185062 \nL 84.940907 123.97439 \nL 85.339489 123.909891 \nL 85.733025 124.972359 \nL 86.126561 124.883229 \nL 86.520098 124.488636 \nL 86.913634 124.311441 \nL 87.312216 124.30774 \nL 87.705752 124.933786 \nL 88.492825 125.155887 \nL 89.284943 125.076602 \nL 89.67848 125.854329 \nL 90.072016 125.600954 \nL 90.465552 125.708418 \nL 91.25767 125.439449 \nL 92.044743 126.076691 \nL 92.43828 125.804455 \nL 92.831816 125.940087 \nL 93.230398 125.819674 \nL 93.623934 126.801706 \nL 95.19808 126.429661 \nL 95.596661 125.842014 \nL 95.990198 126.506924 \nL 97.175852 126.485718 \nL 97.569389 127.490786 \nL 98.356461 127.390583 \nL 98.749998 127.041019 \nL 99.14858 127.044374 \nL 99.542116 127.689794 \nL 99.935652 127.974978 \nL 101.116261 127.3455 \nL 101.121307 127.356512 \nL 101.514843 128.600042 \nL 101.90838 128.0747 \nL 103.094034 127.717148 \nL 103.48757 128.806464 \nL 104.274643 128.114298 \nL 104.66818 127.962745 \nL 105.066761 128.011612 \nL 105.460298 129.215932 \nL 105.853834 129.072659 \nL 106.247371 128.716392 \nL 107.039489 128.507025 \nL 107.433025 129.071546 \nL 108.220098 128.685511 \nL 109.405752 128.85139 \nL 109.799289 128.984175 \nL 110.192825 129.376295 \nL 110.586361 129.394121 \nL 110.984943 129.273662 \nL 111.37848 129.664805 \nL 112.95767 129.476375 \nL 113.351207 130.345122 \nL 113.744743 130.01295 \nL 114.531816 130.089575 \nL 114.930398 129.99248 \nL 115.323934 129.689011 \nL 115.717471 130.460452 \nL 116.903125 130.1519 \nL 117.296661 130.616312 \nL 118.083734 130.827067 \nL 118.477271 130.85976 \nL 118.875852 130.713012 \nL 119.269389 131.198312 \nL 119.662925 131.059341 \nL 120.056461 131.187428 \nL 120.449998 130.98645 \nL 120.84858 130.927446 \nL 121.242116 131.092696 \nL 121.635652 131.02803 \nL 122.029189 131.254106 \nL 122.821307 131.207823 \nL 123.214843 131.455464 \nL 124.001916 131.391764 \nL 124.794034 131.39577 \nL 125.18757 131.750382 \nL 125.581107 131.520193 \nL 126.36818 131.603137 \nL 126.766761 131.611702 \nL 127.160298 132.420222 \nL 127.553834 132.513052 \nL 127.947371 132.239658 \nL 128.340907 132.202691 \nL 128.739489 132.040492 \nL 129.133025 132.533394 \nL 129.526561 132.387299 \nL 129.920098 132.524702 \nL 130.707171 132.262173 \nL 130.712216 132.2667 \nL 131.105752 132.875341 \nL 131.892825 132.522308 \nL 132.684943 132.480059 \nL 133.07848 132.962237 \nL 133.472016 132.941838 \nL 133.865552 133.041811 \nL 134.65767 132.837781 \nL 135.051207 133.73361 \nL 135.444743 133.626561 \nL 136.231816 133.208321 \nL 136.630398 133.258283 \nL 137.023934 133.658912 \nL 137.417471 133.757213 \nL 137.811007 133.563095 \nL 139.390198 133.490374 \nL 140.575852 133.623603 \nL 140.969389 134.242517 \nL 141.362925 133.892494 \nL 142.149998 134.004287 \nL 142.54858 133.924976 \nL 142.942116 134.795718 \nL 143.335652 134.266183 \nL 144.122725 134.07613 \nL 144.521307 134.147511 \nL 144.914843 134.620313 \nL 145.701916 134.404992 \nL 146.494034 134.267417 \nL 146.88757 135.15598 \nL 147.281107 134.749195 \nL 147.674643 134.603729 \nL 148.466761 134.62859 \nL 148.860298 135.119863 \nL 149.253834 135.187885 \nL 150.040907 134.966967 \nL 150.439489 134.974403 \nL 150.833025 135.135946 \nL 151.226561 135.036035 \nL 152.412216 135.183411 \nL 152.805752 135.399537 \nL 153.199289 135.185291 \nL 153.592825 135.134753 \nL 153.986361 134.88612 \nL 154.384943 134.955804 \nL 155.172016 135.611847 \nL 156.35767 135.455287 \nL 156.751207 135.900545 \nL 157.144743 135.956149 \nL 158.330398 135.714214 \nL 158.723934 135.254478 \nL 159.511007 135.871469 \nL 159.904543 135.819784 \nL 160.696661 136.10821 \nL 161.090198 136.245151 \nL 162.275852 136.214032 \nL 162.669389 135.959859 \nL 163.456461 136.233756 \nL 164.24858 136.195696 \nL 165.035652 136.503099 \nL 166.221307 136.628542 \nL 166.614843 136.458056 \nL 168.194034 136.575858 \nL 168.58757 136.960682 \nL 168.981107 136.860892 \nL 169.374643 136.961072 \nL 170.560298 136.742959 \nL 170.953834 136.506291 \nL 171.347371 136.914891 \nL 171.740907 136.725827 \nL 172.139489 136.78398 \nL 172.533025 137.014808 \nL 172.926561 137.052596 \nL 173.320098 137.287006 \nL 173.713634 137.380739 \nL 174.112216 137.303393 \nL 174.899289 137.360292 \nL 175.292825 137.192145 \nL 176.084943 137.210834 \nL 176.47848 137.843942 \nL 177.265552 137.3035 \nL 177.659089 137.386079 \nL 178.05767 137.267184 \nL 178.451207 137.46234 \nL 178.844743 137.347984 \nL 179.23828 137.53188 \nL 180.030398 137.611996 \nL 180.423934 137.510328 \nL 180.817471 137.982176 \nL 181.604543 137.872269 \nL 182.003125 137.866259 \nL 182.396661 137.623977 \nL 182.790198 137.781013 \nL 183.183734 137.761677 \nL 183.577271 137.874803 \nL 183.975852 137.856911 \nL 184.369389 138.161185 \nL 185.94858 137.939392 \nL 186.342116 138.212701 \nL 186.735652 138.269007 \nL 187.522725 138.223628 \nL 187.921307 138.24577 \nL 188.314843 138.58137 \nL 190.681107 138.146078 \nL 193.440907 138.591306 \nL 194.233025 138.556539 \nL 194.626561 138.330182 \nL 195.413634 138.486672 \nL 195.812216 138.496174 \nL 196.599289 138.882563 \nL 196.992825 138.836805 \nL 197.386361 138.615396 \nL 197.784943 138.631602 \nL 198.572016 138.46886 \nL 198.965552 138.701962 \nL 199.75767 138.730749 \nL 200.151207 139.06827 \nL 200.544743 138.891917 \nL 203.304543 138.834765 \nL 203.703125 138.727123 \nL 204.096661 138.791286 \nL 204.490198 138.573115 \nL 204.883734 138.63295 \nL 205.277271 138.814964 \nL 205.675852 138.798841 \nL 206.069389 139.254812 \nL 206.462925 139.228141 \nL 207.64858 138.911125 \nL 208.042116 138.85503 \nL 208.435652 138.934748 \nL 209.222725 138.906095 \nL 209.621307 138.95235 \nL 210.014843 139.5 \nL 210.801916 139.130391 \nL 211.195452 139.060963 \nL 211.594034 139.109931 \nL 211.98757 138.885399 \nL 212.774643 139.045601 \nL 213.566761 139.050642 \nL 213.960298 138.894486 \nL 214.353834 139.106135 \nL 214.747371 138.905404 \nL 215.539489 138.881182 \nL 215.933025 139.029746 \nL 218.692825 139.106087 \nL 219.086361 139.025232 \nL 219.87848 139.040148 \nL 220.665552 139.174317 \nL 221.059089 139.053762 \nL 221.45767 139.077589 \nL 222.244743 139.26785 \nL 222.63828 139.069991 \nL 224.611007 139.044385 \nL 225.004543 139.183724 \nL 225.403125 139.058257 \nL 225.403125 139.058257 \n\" clip-path=\"url(#p32b9fa145c)\" style=\"fill: none; stroke: #1f77b4; stroke-width: 1.5; stroke-linecap: square\"/>\n   </g>\n   <g id=\"line2d_22\">\n    <path d=\"M 28.523934 136.130755 \nL 28.917471 133.737546 \nL 29.704543 131.077708 \nL 30.103125 130.005327 \nL 30.496661 124.404286 \nL 30.890198 124.133794 \nL 32.075852 122.838729 \nL 32.469389 120.653464 \nL 34.04858 119.125802 \nL 34.442116 116.830512 \nL 34.835652 116.858849 \nL 36.021307 116.261631 \nL 36.414843 114.702642 \nL 36.80838 114.689761 \nL 37.994034 114.288399 \nL 38.38757 113.466107 \nL 38.781107 113.074538 \nL 39.174643 113.083125 \nL 39.966761 112.759607 \nL 40.360298 111.755568 \nL 40.753834 111.920439 \nL 41.934443 111.817394 \nL 41.939489 111.808999 \nL 42.726561 111.18367 \nL 43.513634 110.94538 \nL 43.912216 110.928349 \nL 44.305752 109.931679 \nL 44.699289 110.199595 \nL 45.884943 110.055929 \nL 46.27848 109.437065 \nL 47.459089 109.531094 \nL 51.404543 108.40662 \nL 51.803125 108.446891 \nL 52.196661 107.731678 \nL 52.590198 107.613177 \nL 53.775852 107.824469 \nL 54.562925 107.453458 \nL 54.956461 107.422544 \nL 55.349998 107.532029 \nL 55.74858 107.49937 \nL 56.142116 106.716689 \nL 56.929189 107.03441 \nL 57.721307 107.098139 \nL 58.114843 106.64971 \nL 58.50838 106.832614 \nL 59.694034 106.766866 \nL 60.08757 106.18601 \nL 60.874643 106.307946 \nL 61.666761 106.336829 \nL 62.060298 106.515752 \nL 62.453834 106.242684 \nL 63.639489 106.123868 \nL 64.033025 105.660483 \nL 64.426561 105.665635 \nL 64.820098 105.80818 \nL 65.612216 105.816258 \nL 66.005752 105.104042 \nL 66.792825 105.46985 \nL 67.584943 105.557001 \nL 67.97848 105.140108 \nL 68.372016 105.199358 \nL 68.765552 105.382262 \nL 69.55767 105.376962 \nL 69.951207 105.109194 \nL 71.131816 105.182614 \nL 73.503125 104.993221 \nL 73.896661 104.604276 \nL 74.290198 104.542449 \nL 75.475852 104.738079 \nL 75.869389 104.47547 \nL 77.44858 104.481909 \nL 77.842116 103.949943 \nL 78.629189 104.348382 \nL 79.421307 104.422238 \nL 79.814843 103.944791 \nL 80.995452 104.141864 \nL 81.394034 104.075534 \nL 81.78757 103.615048 \nL 82.181107 103.82629 \nL 82.96818 103.893269 \nL 83.366761 103.860515 \nL 83.760298 103.939639 \nL 84.547371 103.697484 \nL 85.339489 103.752492 \nL 85.733025 103.408959 \nL 86.126561 103.411536 \nL 86.913634 103.604744 \nL 88.099289 103.473362 \nL 89.284943 103.399614 \nL 89.67848 102.991629 \nL 90.072016 103.120435 \nL 90.465552 103.084369 \nL 91.25767 103.235007 \nL 91.651207 103.233784 \nL 92.044743 103.076641 \nL 93.230398 103.111551 \nL 93.623934 102.641278 \nL 95.203125 102.888303 \nL 95.596661 103.192566 \nL 95.990198 102.87828 \nL 97.175852 102.854352 \nL 97.569389 102.46095 \nL 98.749998 102.758491 \nL 99.542116 102.667039 \nL 99.935652 102.563994 \nL 101.121307 102.633161 \nL 101.514843 102.244556 \nL 102.695452 102.468678 \nL 103.094034 102.501475 \nL 103.48757 102.095141 \nL 105.066761 102.326579 \nL 105.460298 101.940575 \nL 107.039489 102.204153 \nL 107.433025 101.966336 \nL 108.220098 102.102011 \nL 109.012216 102.084812 \nL 109.799289 101.93027 \nL 110.192825 101.83066 \nL 110.984943 101.8986 \nL 111.37848 101.554158 \nL 112.165552 101.667507 \nL 112.559089 101.640457 \nL 112.95767 101.732964 \nL 113.351207 101.394439 \nL 114.13828 101.65892 \nL 114.930398 101.705186 \nL 115.323934 101.863291 \nL 115.717471 101.546429 \nL 116.903125 101.643458 \nL 118.083734 101.293111 \nL 123.60838 101.139403 \nL 124.794034 101.118772 \nL 126.36818 101.178045 \nL 126.766761 101.179471 \nL 127.160298 100.827694 \nL 127.553834 100.75041 \nL 128.340907 100.921722 \nL 129.526561 100.987413 \nL 131.499289 100.809661 \nL 133.07848 100.812237 \nL 133.865552 100.602713 \nL 134.65767 100.680505 \nL 135.051207 100.307319 \nL 136.231816 100.603572 \nL 136.630398 100.610546 \nL 137.023934 100.405211 \nL 138.204543 100.459309 \nL 139.390198 100.456733 \nL 142.54858 100.382154 \nL 142.942116 99.956967 \nL 143.335652 100.134719 \nL 144.521307 100.192855 \nL 144.914843 100.075468 \nL 146.494034 100.150674 \nL 146.88757 99.884836 \nL 147.281107 100.018794 \nL 148.860298 99.931206 \nL 150.040907 99.946663 \nL 150.439489 99.941829 \nL 150.833025 99.766335 \nL 151.226561 99.902869 \nL 152.412216 99.850266 \nL 152.805752 99.622072 \nL 153.592825 99.836748 \nL 154.77848 99.94151 \nL 155.172016 99.784367 \nL 156.35767 99.796768 \nL 156.751207 99.57055 \nL 157.931816 99.649122 \nL 159.117471 99.719965 \nL 159.511007 99.589442 \nL 160.303125 99.561174 \nL 161.090198 99.413407 \nL 162.275852 99.479899 \nL 163.849998 99.439168 \nL 165.429189 99.376483 \nL 166.221307 99.348213 \nL 166.614843 99.508723 \nL 167.795452 99.361885 \nL 172.139489 99.313234 \nL 172.533025 99.086241 \nL 173.320098 99.113719 \nL 174.505752 99.075936 \nL 176.084943 99.144511 \nL 176.47848 98.85439 \nL 177.659089 99.006381 \nL 178.05767 99.062207 \nL 178.451207 98.962587 \nL 178.844743 99.039871 \nL 179.631816 98.983196 \nL 180.423934 98.931674 \nL 180.817471 98.779683 \nL 181.604543 98.858255 \nL 182.003125 98.858506 \nL 182.396661 99.019262 \nL 183.183734 98.936826 \nL 185.549998 98.862119 \nL 185.94858 98.875995 \nL 186.342116 98.66891 \nL 187.921307 98.749453 \nL 188.314843 98.540105 \nL 189.894034 98.692869 \nL 190.28757 98.885304 \nL 190.681107 98.813173 \nL 191.46818 98.796428 \nL 191.866761 98.814267 \nL 192.260298 98.591627 \nL 194.233025 98.653454 \nL 195.020098 98.631127 \nL 199.75767 98.63217 \nL 200.151207 98.411299 \nL 200.93828 98.495452 \nL 205.675852 98.532377 \nL 206.069389 98.447364 \nL 207.643534 98.585444 \nL 207.64858 98.582788 \nL 208.829189 98.481713 \nL 209.621307 98.459332 \nL 210.014843 98.184601 \nL 210.801916 98.440495 \nL 211.594034 98.448016 \nL 211.98757 98.565866 \nL 212.774643 98.4903 \nL 215.140907 98.493735 \nL 219.086361 98.496311 \nL 220.665552 98.375233 \nL 221.45767 98.415094 \nL 222.244743 98.318559 \nL 222.63828 98.449082 \nL 225.403125 98.455217 \nL 225.403125 98.455217 \n\" clip-path=\"url(#p32b9fa145c)\" style=\"fill: none; stroke-dasharray: 5.55,2.4; stroke-dashoffset: 0; stroke: #bf00bf; stroke-width: 1.5\"/>\n   </g>\n   <g id=\"line2d_23\">\n    <path d=\"M 30.103125 126.487871 \nL 32.075852 120.140195 \nL 34.04858 117.202981 \nL 36.021307 115.932417 \nL 37.994034 112.990058 \nL 39.966761 110.37177 \nL 41.939489 110.92732 \nL 43.912216 109.255526 \nL 45.884943 109.101206 \nL 47.85767 107.20822 \nL 49.830398 107.115628 \nL 51.803125 107.527147 \nL 53.775852 106.585798 \nL 55.74858 106.081688 \nL 57.721307 106.611518 \nL 59.694034 106.488062 \nL 61.666761 105.454122 \nL 63.639489 104.733964 \nL 65.612216 104.507629 \nL 67.584943 104.533349 \nL 69.55767 104.749396 \nL 71.530398 105.083755 \nL 73.503125 104.5745 \nL 75.475852 104.240141 \nL 77.44858 104.245285 \nL 79.421307 104.14755 \nL 81.394034 103.664015 \nL 83.366761 103.633151 \nL 85.339489 102.902706 \nL 87.312216 103.391384 \nL 89.284943 103.144473 \nL 91.25767 102.825546 \nL 93.230398 102.712378 \nL 95.203125 102.995297 \nL 97.175852 102.974721 \nL 99.14858 103.103321 \nL 101.121307 102.810114 \nL 103.094034 102.604355 \nL 105.066761 102.378019 \nL 107.039489 102.378019 \nL 109.012216 102.110532 \nL 110.984943 102.002509 \nL 112.95767 102.486043 \nL 114.930398 102.131108 \nL 116.903125 101.771029 \nL 118.875852 102.141396 \nL 120.84858 102.074524 \nL 122.821307 102.17226 \nL 124.794034 101.894485 \nL 126.766761 101.318359 \nL 128.739489 101.421238 \nL 130.712216 101.554982 \nL 132.684943 101.673294 \nL 134.65767 101.416094 \nL 136.630398 101.693869 \nL 138.603125 101.318359 \nL 140.575852 101.359511 \nL 142.54858 101.194903 \nL 144.521307 101.03544 \nL 146.494034 101.302927 \nL 148.466761 101.230911 \nL 150.439489 101.323503 \nL 152.412216 101.128031 \nL 154.384943 100.911984 \nL 156.35767 101.128031 \nL 158.330398 100.922272 \nL 160.303125 101.092023 \nL 162.275852 101.164039 \nL 164.24858 100.927416 \nL 166.221307 100.865688 \nL 168.194034 100.747376 \nL 170.166761 100.731945 \nL 172.139489 100.942848 \nL 174.112216 100.757664 \nL 176.084943 100.947992 \nL 178.05767 100.670217 \nL 180.030398 100.819392 \nL 182.003125 100.788528 \nL 183.975852 100.77824 \nL 185.94858 100.680505 \nL 187.921307 100.608489 \nL 189.894034 100.613633 \nL 191.866761 100.557049 \nL 193.839489 100.716513 \nL 195.812216 100.644497 \nL 197.784943 100.649641 \nL 199.75767 100.593057 \nL 201.730398 100.567337 \nL 203.703125 100.685649 \nL 205.675852 100.593057 \nL 207.64858 100.618777 \nL 209.621307 100.593057 \nL 211.594034 100.562193 \nL 213.566761 100.623921 \nL 215.539489 100.618777 \nL 217.512216 100.608489 \nL 219.484943 100.567337 \nL 221.45767 100.593057 \nL 223.430398 100.618777 \nL 225.403125 100.593057 \n\" clip-path=\"url(#p32b9fa145c)\" style=\"fill: none; stroke-dasharray: 9.6,2.4,1.5,2.4; stroke-dashoffset: 0; stroke: #008000; stroke-width: 1.5\"/>\n   </g>\n   <g id=\"patch_3\">\n    <path d=\"M 30.103125 145.8 \nL 30.103125 7.2 \n\" style=\"fill: none; stroke: #000000; stroke-width: 0.8; stroke-linejoin: miter; stroke-linecap: square\"/>\n   </g>\n   <g id=\"patch_4\">\n    <path d=\"M 225.403125 145.8 \nL 225.403125 7.2 \n\" style=\"fill: none; stroke: #000000; stroke-width: 0.8; stroke-linejoin: miter; stroke-linecap: square\"/>\n   </g>\n   <g id=\"patch_5\">\n    <path d=\"M 30.103125 145.8 \nL 225.403125 145.8 \n\" style=\"fill: none; stroke: #000000; stroke-width: 0.8; stroke-linejoin: miter; stroke-linecap: square\"/>\n   </g>\n   <g id=\"patch_6\">\n    <path d=\"M 30.103125 7.2 \nL 225.403125 7.2 \n\" style=\"fill: none; stroke: #000000; stroke-width: 0.8; stroke-linejoin: miter; stroke-linecap: square\"/>\n   </g>\n   <g id=\"legend_1\">\n    <g id=\"patch_7\">\n     <path d=\"M 140.634375 59.234375 \nL 218.403125 59.234375 \nQ 220.403125 59.234375 220.403125 57.234375 \nL 220.403125 14.2 \nQ 220.403125 12.2 218.403125 12.2 \nL 140.634375 12.2 \nQ 138.634375 12.2 138.634375 14.2 \nL 138.634375 57.234375 \nQ 138.634375 59.234375 140.634375 59.234375 \nz\n\" style=\"fill: #ffffff; opacity: 0.8; stroke: #cccccc; stroke-linejoin: miter\"/>\n    </g>\n    <g id=\"line2d_24\">\n     <path d=\"M 142.634375 20.298438 \nL 152.634375 20.298438 \nL 162.634375 20.298438 \n\" style=\"fill: none; stroke: #1f77b4; stroke-width: 1.5; stroke-linecap: square\"/>\n    </g>\n    <g id=\"text_12\">\n     <!-- train loss -->\n     <g transform=\"translate(170.634375 23.798438) scale(0.1 -0.1)\">\n      <defs>\n       <path id=\"DejaVuSans-74\" d=\"M 1172 4494 \nL 1172 3500 \nL 2356 3500 \nL 2356 3053 \nL 1172 3053 \nL 1172 1153 \nQ 1172 725 1289 603 \nQ 1406 481 1766 481 \nL 2356 481 \nL 2356 0 \nL 1766 0 \nQ 1100 0 847 248 \nQ 594 497 594 1153 \nL 594 3053 \nL 172 3053 \nL 172 3500 \nL 594 3500 \nL 594 4494 \nL 1172 4494 \nz\n\" transform=\"scale(0.015625)\"/>\n       <path id=\"DejaVuSans-72\" d=\"M 2631 2963 \nQ 2534 3019 2420 3045 \nQ 2306 3072 2169 3072 \nQ 1681 3072 1420 2755 \nQ 1159 2438 1159 1844 \nL 1159 0 \nL 581 0 \nL 581 3500 \nL 1159 3500 \nL 1159 2956 \nQ 1341 3275 1631 3429 \nQ 1922 3584 2338 3584 \nQ 2397 3584 2469 3576 \nQ 2541 3569 2628 3553 \nL 2631 2963 \nz\n\" transform=\"scale(0.015625)\"/>\n       <path id=\"DejaVuSans-61\" d=\"M 2194 1759 \nQ 1497 1759 1228 1600 \nQ 959 1441 959 1056 \nQ 959 750 1161 570 \nQ 1363 391 1709 391 \nQ 2188 391 2477 730 \nQ 2766 1069 2766 1631 \nL 2766 1759 \nL 2194 1759 \nz\nM 3341 1997 \nL 3341 0 \nL 2766 0 \nL 2766 531 \nQ 2569 213 2275 61 \nQ 1981 -91 1556 -91 \nQ 1019 -91 701 211 \nQ 384 513 384 1019 \nQ 384 1609 779 1909 \nQ 1175 2209 1959 2209 \nL 2766 2209 \nL 2766 2266 \nQ 2766 2663 2505 2880 \nQ 2244 3097 1772 3097 \nQ 1472 3097 1187 3025 \nQ 903 2953 641 2809 \nL 641 3341 \nQ 956 3463 1253 3523 \nQ 1550 3584 1831 3584 \nQ 2591 3584 2966 3190 \nQ 3341 2797 3341 1997 \nz\n\" transform=\"scale(0.015625)\"/>\n       <path id=\"DejaVuSans-69\" d=\"M 603 3500 \nL 1178 3500 \nL 1178 0 \nL 603 0 \nL 603 3500 \nz\nM 603 4863 \nL 1178 4863 \nL 1178 4134 \nL 603 4134 \nL 603 4863 \nz\n\" transform=\"scale(0.015625)\"/>\n       <path id=\"DejaVuSans-6e\" d=\"M 3513 2113 \nL 3513 0 \nL 2938 0 \nL 2938 2094 \nQ 2938 2591 2744 2837 \nQ 2550 3084 2163 3084 \nQ 1697 3084 1428 2787 \nQ 1159 2491 1159 1978 \nL 1159 0 \nL 581 0 \nL 581 3500 \nL 1159 3500 \nL 1159 2956 \nQ 1366 3272 1645 3428 \nQ 1925 3584 2291 3584 \nQ 2894 3584 3203 3211 \nQ 3513 2838 3513 2113 \nz\n\" transform=\"scale(0.015625)\"/>\n       <path id=\"DejaVuSans-20\" transform=\"scale(0.015625)\"/>\n       <path id=\"DejaVuSans-6c\" d=\"M 603 4863 \nL 1178 4863 \nL 1178 0 \nL 603 0 \nL 603 4863 \nz\n\" transform=\"scale(0.015625)\"/>\n       <path id=\"DejaVuSans-73\" d=\"M 2834 3397 \nL 2834 2853 \nQ 2591 2978 2328 3040 \nQ 2066 3103 1784 3103 \nQ 1356 3103 1142 2972 \nQ 928 2841 928 2578 \nQ 928 2378 1081 2264 \nQ 1234 2150 1697 2047 \nL 1894 2003 \nQ 2506 1872 2764 1633 \nQ 3022 1394 3022 966 \nQ 3022 478 2636 193 \nQ 2250 -91 1575 -91 \nQ 1294 -91 989 -36 \nQ 684 19 347 128 \nL 347 722 \nQ 666 556 975 473 \nQ 1284 391 1588 391 \nQ 1994 391 2212 530 \nQ 2431 669 2431 922 \nQ 2431 1156 2273 1281 \nQ 2116 1406 1581 1522 \nL 1381 1569 \nQ 847 1681 609 1914 \nQ 372 2147 372 2553 \nQ 372 3047 722 3315 \nQ 1072 3584 1716 3584 \nQ 2034 3584 2315 3537 \nQ 2597 3491 2834 3397 \nz\n\" transform=\"scale(0.015625)\"/>\n      </defs>\n      <use xlink:href=\"#DejaVuSans-74\"/>\n      <use xlink:href=\"#DejaVuSans-72\" x=\"39.208984\"/>\n      <use xlink:href=\"#DejaVuSans-61\" x=\"80.322266\"/>\n      <use xlink:href=\"#DejaVuSans-69\" x=\"141.601562\"/>\n      <use xlink:href=\"#DejaVuSans-6e\" x=\"169.384766\"/>\n      <use xlink:href=\"#DejaVuSans-20\" x=\"232.763672\"/>\n      <use xlink:href=\"#DejaVuSans-6c\" x=\"264.550781\"/>\n      <use xlink:href=\"#DejaVuSans-6f\" x=\"292.333984\"/>\n      <use xlink:href=\"#DejaVuSans-73\" x=\"353.515625\"/>\n      <use xlink:href=\"#DejaVuSans-73\" x=\"405.615234\"/>\n     </g>\n    </g>\n    <g id=\"line2d_25\">\n     <path d=\"M 142.634375 34.976563 \nL 152.634375 34.976563 \nL 162.634375 34.976563 \n\" style=\"fill: none; stroke-dasharray: 5.55,2.4; stroke-dashoffset: 0; stroke: #bf00bf; stroke-width: 1.5\"/>\n    </g>\n    <g id=\"text_13\">\n     <!-- train acc -->\n     <g transform=\"translate(170.634375 38.476563) scale(0.1 -0.1)\">\n      <use xlink:href=\"#DejaVuSans-74\"/>\n      <use xlink:href=\"#DejaVuSans-72\" x=\"39.208984\"/>\n      <use xlink:href=\"#DejaVuSans-61\" x=\"80.322266\"/>\n      <use xlink:href=\"#DejaVuSans-69\" x=\"141.601562\"/>\n      <use xlink:href=\"#DejaVuSans-6e\" x=\"169.384766\"/>\n      <use xlink:href=\"#DejaVuSans-20\" x=\"232.763672\"/>\n      <use xlink:href=\"#DejaVuSans-61\" x=\"264.550781\"/>\n      <use xlink:href=\"#DejaVuSans-63\" x=\"325.830078\"/>\n      <use xlink:href=\"#DejaVuSans-63\" x=\"380.810547\"/>\n     </g>\n    </g>\n    <g id=\"line2d_26\">\n     <path d=\"M 142.634375 49.654688 \nL 152.634375 49.654688 \nL 162.634375 49.654688 \n\" style=\"fill: none; stroke-dasharray: 9.6,2.4,1.5,2.4; stroke-dashoffset: 0; stroke: #008000; stroke-width: 1.5\"/>\n    </g>\n    <g id=\"text_14\">\n     <!-- test acc -->\n     <g transform=\"translate(170.634375 53.154688) scale(0.1 -0.1)\">\n      <use xlink:href=\"#DejaVuSans-74\"/>\n      <use xlink:href=\"#DejaVuSans-65\" x=\"39.208984\"/>\n      <use xlink:href=\"#DejaVuSans-73\" x=\"100.732422\"/>\n      <use xlink:href=\"#DejaVuSans-74\" x=\"152.832031\"/>\n      <use xlink:href=\"#DejaVuSans-20\" x=\"192.041016\"/>\n      <use xlink:href=\"#DejaVuSans-61\" x=\"223.828125\"/>\n      <use xlink:href=\"#DejaVuSans-63\" x=\"285.107422\"/>\n      <use xlink:href=\"#DejaVuSans-63\" x=\"340.087891\"/>\n     </g>\n    </g>\n   </g>\n  </g>\n </g>\n <defs>\n  <clipPath id=\"p32b9fa145c\">\n   <rect x=\"30.103125\" y=\"7.2\" width=\"195.3\" height=\"138.6\"/>\n  </clipPath>\n </defs>\n</svg>\n"
     },
     "metadata": {},
     "output_type": "display_data"
    }
   ],
   "source": [
    "log = open('printlog', 'w')\n",
    "lr, num_epochs= 0.1, 100\n",
    "def init_weights(m):\n",
    "    if type(m) == nn.Linear or type(m) == nn.Conv2d:\n",
    "        nn.init.xavier_uniform_(m.weight)\n",
    "net.apply(init_weights)\n",
    "\n",
    "device = torch.device('cuda:0')\n",
    "print('training on', device)\n",
    "scaler = GradScaler()\n",
    "net.to(device)\n",
    "optimizer = torch.optim.SGD(net.parameters(), lr=lr)\n",
    "scheduler = torch.optim.lr_scheduler.CosineAnnealingLR(optimizer, T_max=num_epochs, eta_min=0)\n",
    "animator = d2l.Animator(xlabel='epoch', xlim=[1, num_epochs],\n",
    "                            legend=['train loss', 'train acc', 'test acc'])\n",
    "loss = nn.CrossEntropyLoss()\n",
    "timer, num_batches = Timer(), len(train_iter)\n",
    "counter = 0\n",
    "best_acc = 0.85\n",
    "for epoch in range(num_epochs):\n",
    "   \n",
    "    # 训练损失之和，训练准确率之和，样本数\n",
    "    metric = Accumulator(3)\n",
    "    net.train()\n",
    "    for i, (X, y) in enumerate(train_iter):\n",
    "        timer.start()\n",
    "        optimizer.zero_grad()\n",
    "        X, y = X.to(device), y.to(device)\n",
    "        # 混合精度\n",
    "        with autocast():\n",
    "            y_hat = net(X)\n",
    "            l = loss(y_hat, y)\n",
    "        scaler.scale(l).backward()\n",
    "        scaler.step(optimizer)\n",
    "        scaler.update()\n",
    "        \n",
    "        with torch.no_grad():\n",
    "            metric.add(l * X.shape[0], accuracy(y_hat, y), X.shape[0])\n",
    "        timer.stop()\n",
    "        train_l = metric[0] / metric[2]\n",
    "        train_acc = metric[1] / metric[2]\n",
    "        if (i + 1) % (num_batches // 5) == 0 or i == num_batches - 1:\n",
    "            animator.add(epoch + (i + 1) / num_batches,\n",
    "                         (train_l, train_acc, None))\n",
    "    scheduler.step()    \n",
    "    test_acc = evaluate_accuracy_gpu(net, test_iter)\n",
    "    if test_acc > best_acc:\n",
    "        best_acc = test_acc\n",
    "        torch.save(net.state_dict(), 'resnet18.params')\n",
    "        torch.save(best_acc, 'best_acc')\n",
    "        print('better test_acc', file=log, flush=True)\n",
    "    print(f'train loss: {train_l}, train acc: {train_acc}, test acc: {test_acc}', file=log, flush=True)\n",
    "    animator.add(epoch + 1, (None, None, test_acc))\n",
    "print(f'loss {train_l:.3f}, train acc {train_acc:.3f}, '\n",
    "      f'test acc {test_acc:.3f}')\n",
    "print(f'{metric[2] * num_epochs / timer.sum():.1f} examples/sec '\n",
    "      f'on {str(device)}')\n",
    "print(f' total time {timer.sum()}')"
   ]
  },
  {
   "cell_type": "code",
   "execution_count": 140,
   "id": "80c43dee324436dd",
   "metadata": {
    "ExecuteTime": {
     "end_time": "2023-11-15T08:57:13.133819267Z",
     "start_time": "2023-11-15T08:57:13.129545666Z"
    }
   },
   "outputs": [],
   "source": []
  }
 ],
 "metadata": {
  "kernelspec": {
   "display_name": "Python 3 (ipykernel)",
   "language": "python",
   "name": "python3"
  },
  "language_info": {
   "codemirror_mode": {
    "name": "ipython",
    "version": 3
   },
   "file_extension": ".py",
   "mimetype": "text/x-python",
   "name": "python",
   "nbconvert_exporter": "python",
   "pygments_lexer": "ipython3",
   "version": "3.8.18"
  }
 },
 "nbformat": 4,
 "nbformat_minor": 5
}
