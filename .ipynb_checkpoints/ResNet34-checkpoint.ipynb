{
 "cells": [
  {
   "cell_type": "code",
   "execution_count": 1,
   "id": "initial_id",
   "metadata": {
    "ExecuteTime": {
     "end_time": "2023-11-10T02:48:08.731836459Z",
     "start_time": "2023-11-10T02:48:08.683567906Z"
    }
   },
   "outputs": [],
   "source": [
    "import torch\n",
    "from torch import nn\n",
    "from torchvision import models, datasets\n",
    "from torchvision.transforms import v2\n",
    "from torch.cuda.amp import autocast as autocast, GradScaler\n",
    "import time\n"
   ]
  },
  {
   "cell_type": "code",
   "execution_count": 2,
   "id": "d28a0da740d7e3e",
   "metadata": {
    "ExecuteTime": {
     "end_time": "2023-11-10T02:48:08.732053873Z",
     "start_time": "2023-11-10T02:48:08.727238327Z"
    }
   },
   "outputs": [],
   "source": [
    "class Timer:\n",
    "    \"\"\"记录多次运行时间\"\"\"\n",
    "    def __init__(self):\n",
    "        \"\"\"Defined in :numref:`subsec_linear_model`\"\"\"\n",
    "        self.times = []\n",
    "        self.start()\n",
    "\n",
    "    def start(self):\n",
    "        \"\"\"启动计时器\"\"\"\n",
    "        self.tik = time.time()\n",
    "\n",
    "    def stop(self):\n",
    "        \"\"\"停止计时器并将时间记录在列表中\"\"\"\n",
    "        self.times.append(time.time() - self.tik)\n",
    "        return self.times[-1]\n",
    "    \n",
    "    def sum(self):\n",
    "        \"\"\"返回时间总和\"\"\"\n",
    "        return sum(self.times)\n",
    "\n",
    "\n",
    "class Accumulator:\n",
    "    \"\"\"在n个变量上累加\"\"\"\n",
    "    def __init__(self, n):\n",
    "        \"\"\"Defined in :numref:`sec_softmax_scratch`\"\"\"\n",
    "        self.data = [0.0] * n\n",
    "\n",
    "    def add(self, *args):\n",
    "        self.data = [a + float(b) for a, b in zip(self.data, args)]\n",
    "\n",
    "    def reset(self):\n",
    "        self.data = [0.0] * len(self.data)\n",
    "\n",
    "    def __getitem__(self, idx):\n",
    "        return self.data[idx]\n",
    "    \n",
    "\n",
    "\n",
    "def accuracy(y_hat, y):  #@save\n",
    "    \"\"\"计算预测正确的数量\"\"\"\n",
    "    if len(y_hat.shape) > 1 and y_hat.shape[1] > 1:\n",
    "        y_hat = y_hat.argmax(axis=1)\n",
    "    cmp = y_hat.type(y.dtype) == y\n",
    "    return float(cmp.type(y.dtype).sum())\n",
    "\n",
    "\n",
    "def evaluate_accuracy_gpu(net, data_iter, device=None):\n",
    "    \"\"\"使用GPU计算模型在数据集上的精度\n",
    "\n",
    "    Defined in :numref:`sec_lenet`\"\"\"\n",
    "    if isinstance(net, nn.Module):\n",
    "        net.eval()  # 设置为评估模式\n",
    "        if not device:\n",
    "            device = next(iter(net.parameters())).device\n",
    "    # 正确预测的数量，总预测的数量\n",
    "    metric = Accumulator(2)\n",
    "    with torch.no_grad():\n",
    "        for X, y in data_iter:\n",
    "            if isinstance(X, list):\n",
    "                # BERT微调所需的（之后将介绍）\n",
    "                X = [x.to(device) for x in X]\n",
    "            else:\n",
    "                X = X.to(device)\n",
    "            y = y.to(device)\n",
    "            metric.add(accuracy(net(X), y), y.numel())\n",
    "    return metric[0] / metric[1]"
   ]
  },
  {
   "cell_type": "code",
   "execution_count": 3,
   "id": "5557dd90240d0cdc",
   "metadata": {
    "ExecuteTime": {
     "end_time": "2023-11-10T02:48:10.161987342Z",
     "start_time": "2023-11-10T02:48:08.727641166Z"
    }
   },
   "outputs": [
    {
     "name": "stdout",
     "output_type": "stream",
     "text": [
      "Files already downloaded and verified\n",
      "Files already downloaded and verified\n"
     ]
    }
   ],
   "source": [
    "\n",
    "\n",
    "net = models.resnet34()\n",
    "# net = models.resnet50()\n",
    "trans = nn.Sequential(v2.Resize(224),\n",
    "#                       v2.RandomCrop(224, padding=14),\n",
    "#                       v2.RandomHorizontalFlip(p=0.5),\n",
    "#                       v2.RandomPerspective(distortion_scale=0.4, p=0.5),\n",
    "                      v2.ToImage(),\n",
    "                      v2.ToDtype(torch.float32, scale=True),\n",
    "                      v2.AutoAugment(),\n",
    "                      v2.Normalize([0.485, 0.456, 0.406], [0.229, 0.224, 0.225])\n",
    "                      )\n",
    "train_data = datasets.CIFAR100(root='cifar100', train=True, transform=trans, download=True)\n",
    "test_data = datasets.CIFAR100(root='cifar100', train=False, \n",
    "                              transform=nn.Sequential(v2.Resize(224), v2.ToImage(),\n",
    "                                                      v2.ToDtype(torch.float32, scale=True), v2.Normalize([0.485, 0.456, 0.406], [0.229, 0.224, 0.225])), download=True)\n",
    "\n",
    "batch_size = 256\n",
    "train_iter = torch.utils.data.DataLoader(train_data, batch_size, shuffle=True, num_workers=6)\n",
    "test_iter = torch.utils.data.DataLoader(test_data, batch_size, shuffle=True, num_workers=6)"
   ]
  },
  {
   "cell_type": "code",
   "execution_count": 5,
   "id": "56a9fd49849c379d",
   "metadata": {
    "ExecuteTime": {
     "end_time": "2023-11-10T02:48:11.630600450Z",
     "start_time": "2023-11-10T02:48:10.168149415Z"
    }
   },
   "outputs": [
    {
     "name": "stdout",
     "output_type": "stream",
     "text": [
      "training on cuda:0\n"
     ]
    },
    {
     "ename": "KeyboardInterrupt",
     "evalue": "",
     "output_type": "error",
     "traceback": [
      "\u001b[0;31m---------------------------------------------------------------------------\u001b[0m",
      "\u001b[0;31mKeyboardInterrupt\u001b[0m                         Traceback (most recent call last)",
      "Cell \u001b[0;32mIn[5], line 28\u001b[0m\n\u001b[1;32m     26\u001b[0m timer\u001b[38;5;241m.\u001b[39mstart()\n\u001b[1;32m     27\u001b[0m optimizer\u001b[38;5;241m.\u001b[39mzero_grad()\n\u001b[0;32m---> 28\u001b[0m X, y \u001b[38;5;241m=\u001b[39m \u001b[43mX\u001b[49m\u001b[38;5;241;43m.\u001b[39;49m\u001b[43mto\u001b[49m\u001b[43m(\u001b[49m\u001b[43mdevice\u001b[49m\u001b[43m)\u001b[49m, y\u001b[38;5;241m.\u001b[39mto(device)\n\u001b[1;32m     29\u001b[0m \u001b[38;5;66;03m# 混合精度\u001b[39;00m\n\u001b[1;32m     30\u001b[0m \u001b[38;5;28;01mwith\u001b[39;00m autocast():\n",
      "\u001b[0;31mKeyboardInterrupt\u001b[0m: "
     ]
    }
   ],
   "source": [
    "log = open('printlog', 'w')\n",
    "torch.cuda.empty_cache()\n",
    "lr, num_epochs= 0.1, 200\n",
    "def init_weights(m):\n",
    "    if type(m) == nn.Linear or type(m) == nn.Conv2d:\n",
    "        nn.init.xavier_uniform_(m.weight)\n",
    "net.apply(init_weights)\n",
    "\n",
    "device = torch.device('cuda:0')\n",
    "print('training on', device)\n",
    "scaler = GradScaler()\n",
    "net.to(device)\n",
    "optimizer = torch.optim.SGD(net.parameters(), lr=lr)\n",
    "scheduler = torch.optim.lr_scheduler.CosineAnnealingLR(optimizer, T_max=10, eta_min=0)\n",
    "\n",
    "loss = nn.CrossEntropyLoss()\n",
    "timer, num_batches = Timer(), len(train_iter)\n",
    "\n",
    "best_acc = 0.85\n",
    "for epoch in range(num_epochs):\n",
    "    \n",
    "    # 训练损失之和，训练准确率之和，样本数\n",
    "    metric = Accumulator(3)\n",
    "    net.train()\n",
    "    for i, (X, y) in enumerate(train_iter):\n",
    "        timer.start()\n",
    "        optimizer.zero_grad()\n",
    "        X, y = X.to(device), y.to(device)\n",
    "        # 混合精度\n",
    "        with autocast():\n",
    "            y_hat = net(X)\n",
    "            l = loss(y_hat, y)\n",
    "        scaler.scale(l).backward()\n",
    "        scaler.step(optimizer)\n",
    "        scaler.update()\n",
    "        \n",
    "        with torch.no_grad():\n",
    "            metric.add(l * X.shape[0], accuracy(y_hat, y), X.shape[0])\n",
    "        timer.stop()\n",
    "        train_l = metric[0] / metric[2]\n",
    "        train_acc = metric[1] / metric[2]\n",
    "    \n",
    "    scheduler.step()\n",
    "    print(f'lr {lr}')\n",
    "        \n",
    "    test_acc = evaluate_accuracy_gpu(net, test_iter)\n",
    "    if test_acc > best_acc:\n",
    "        best_acc = test_acc\n",
    "        torch.save(net.state_dict(), 'resnet18.params')\n",
    "        torch.save(best_acc, 'best_acc')\n",
    "        print('better test_acc', file=log, flush=True)\n",
    "    print(f'train loss: {train_l}, train acc: {train_acc}, test acc: {test_acc}', file=log, flush=True)\n",
    "print(f'loss {train_l:.3f}, train acc {train_acc:.3f}, '\n",
    "      f'test acc {test_acc:.3f}')\n",
    "print(f'{metric[2] * num_epochs / timer.sum():.1f} examples/sec '\n",
    "      f'on {str(device)}')\n",
    "print(f' total time {timer.sum()}')"
   ]
  },
  {
   "cell_type": "code",
   "execution_count": null,
   "id": "ac45691dc51b8dce",
   "metadata": {
    "ExecuteTime": {
     "start_time": "2023-11-10T02:48:11.626050820Z"
    }
   },
   "outputs": [],
   "source": []
  }
 ],
 "metadata": {
  "kernelspec": {
   "display_name": "Python 3 (ipykernel)",
   "language": "python",
   "name": "python3"
  },
  "language_info": {
   "codemirror_mode": {
    "name": "ipython",
    "version": 3
   },
   "file_extension": ".py",
   "mimetype": "text/x-python",
   "name": "python",
   "nbconvert_exporter": "python",
   "pygments_lexer": "ipython3",
   "version": "3.8.18"
  }
 },
 "nbformat": 4,
 "nbformat_minor": 5
}
